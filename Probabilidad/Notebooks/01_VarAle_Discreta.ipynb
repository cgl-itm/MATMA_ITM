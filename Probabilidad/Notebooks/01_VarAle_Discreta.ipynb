{
  "nbformat": 4,
  "nbformat_minor": 0,
  "metadata": {
    "colab": {
      "name": "01_VarAle_Discreta.ipynb",
      "provenance": []
    },
    "kernelspec": {
      "name": "python3",
      "display_name": "Python 3"
    }
  },
  "cells": [
    {
      "cell_type": "markdown",
      "metadata": {
        "id": "RgQQlJcjISvI",
        "colab_type": "text"
      },
      "source": [
        "# Variable Aleatoria Discreta"
      ]
    },
    {
      "cell_type": "markdown",
      "metadata": {
        "id": "X4nWHvghIWtG",
        "colab_type": "text"
      },
      "source": [
        "En esta ocasion usaremos [Numpy](https://docs.scipy.org/doc/numpy-1.15.1/reference/routines.random.html) (Multinomial) y [Scipy](https://docs.scipy.org/doc/scipy/reference/generated/scipy.stats.rv_discrete.html) (Bernoulli, Binomial, etc)."
      ]
    },
    {
      "cell_type": "code",
      "metadata": {
        "id": "UBQP5WX-IPNc",
        "colab_type": "code",
        "colab": {}
      },
      "source": [
        "from scipy.stats import rv_discrete\n",
        "class poisson_gen(rv_discrete):\n",
        "    \"Poisson distribution\"\n",
        "    def _pmf(self, k, lam):\n",
        "        return exp(-lam) * lam**k / factorial(k)"
      ],
      "execution_count": 2,
      "outputs": []
    },
    {
      "cell_type": "code",
      "metadata": {
        "id": "pSNViWsIIcUO",
        "colab_type": "code",
        "colab": {}
      },
      "source": [
        "poisson = poisson_gen(name=\"poisson\")"
      ],
      "execution_count": 3,
      "outputs": []
    },
    {
      "cell_type": "markdown",
      "metadata": {
        "id": "C9r1l2cEJOj3",
        "colab_type": "text"
      },
      "source": [
        "Como crear una distribucion discreta cualquiera"
      ]
    },
    {
      "cell_type": "code",
      "metadata": {
        "id": "3n8oBW2UIokt",
        "colab_type": "code",
        "colab": {
          "base_uri": "https://localhost:8080/",
          "height": 265
        },
        "outputId": "9c651edc-077b-4619-f96c-4701865dba78"
      },
      "source": [
        "import numpy as np\n",
        "from scipy import stats\n",
        "xk = np.arange(7)\n",
        "pk = (0.1, 0.2, 0.3, 0.1, 0.1, 0.0, 0.2)\n",
        "custm = stats.rv_discrete(name='custm', values=(xk, pk))\n",
        "\n",
        "import matplotlib.pyplot as plt\n",
        "fig, ax = plt.subplots(1, 1)\n",
        "ax.plot(xk, custm.pmf(xk), 'ro', ms=12, mec='r')\n",
        "ax.vlines(xk, 0, custm.pmf(xk), colors='r', lw=4)\n",
        "plt.show()"
      ],
      "execution_count": 6,
      "outputs": [
        {
          "output_type": "display_data",
          "data": {
            "image/png": "[encoded data removed]",
            "text/plain": [
              "<Figure size 432x288 with 1 Axes>"
            ]
          },
          "metadata": {
            "tags": [],
            "needs_background": "light"
          }
        }
      ]
    },
    {
      "cell_type": "code",
      "metadata": {
        "id": "zBkLBinyJBHF",
        "colab_type": "code",
        "colab": {}
      },
      "source": [
        "R = custm.rvs(size=100)"
      ],
      "execution_count": 7,
      "outputs": []
    },
    {
      "cell_type": "code",
      "metadata": {
        "id": "kPqrKFSDJWB_",
        "colab_type": "code",
        "colab": {
          "base_uri": "https://localhost:8080/",
          "height": 67
        },
        "outputId": "f88c0fdd-f5c4-446e-bbce-e66dba42d44e"
      },
      "source": [
        "print(R)"
      ],
      "execution_count": 8,
      "outputs": [
        {
          "output_type": "stream",
          "text": [
            "[0 6 3 2 6 0 4 1 0 4 6 2 6 1 0 0 2 1 1 2 3 6 2 0 2 4 4 4 4 2 6 1 3 6 2 1 0\n",
            " 3 6 2 2 1 1 1 2 2 2 1 0 2 0 6 1 4 1 0 4 2 3 6 3 2 6 0 6 2 2 2 2 1 2 6 6 1\n",
            " 1 2 2 2 2 6 4 1 1 2 2 3 3 0 6 1 1 6 1 6 2 1 1 2 2 6]\n"
          ],
          "name": "stdout"
        }
      ]
    },
    {
      "cell_type": "code",
      "metadata": {
        "id": "1dYwYcMsJXnE",
        "colab_type": "code",
        "colab": {
          "base_uri": "https://localhost:8080/",
          "height": 34
        },
        "outputId": "80cc4f6f-7eff-47c5-ea25-f727e5ec29af"
      },
      "source": [
        "np.sum(R==6)/100"
      ],
      "execution_count": 32,
      "outputs": [
        {
          "output_type": "execute_result",
          "data": {
            "text/plain": [
              "0.19"
            ]
          },
          "metadata": {
            "tags": []
          },
          "execution_count": 32
        }
      ]
    },
    {
      "cell_type": "code",
      "metadata": {
        "id": "zrszpZD0Jdm7",
        "colab_type": "code",
        "colab": {
          "base_uri": "https://localhost:8080/",
          "height": 265
        },
        "outputId": "ce3997c5-2c65-4279-9297-849ad6552ea8"
      },
      "source": [
        "fig, ax = plt.subplots(1, 1)\n",
        "ax.plot(xk, custm.cdf(xk), 'ro', ms=12, mec='r')\n",
        "ax.step(xk+1, custm.cdf(xk))\n",
        "plt.show()"
      ],
      "execution_count": 33,
      "outputs": [
        {
          "output_type": "display_data",
          "data": {
            "image/png": "[encoded data removed]",
            "text/plain": [
              "<Figure size 432x288 with 1 Axes>"
            ]
          },
          "metadata": {
            "tags": [],
            "needs_background": "light"
          }
        }
      ]
    },
    {
      "cell_type": "markdown",
      "metadata": {
        "id": "nth6t768OWc5",
        "colab_type": "text"
      },
      "source": [
        "## Bernoulli"
      ]
    },
    {
      "cell_type": "markdown",
      "metadata": {
        "id": "WNQSfk1MOYoN",
        "colab_type": "text"
      },
      "source": [
        "$p(X=0)=p$ y $p(X=1)=1-p$."
      ]
    },
    {
      "cell_type": "code",
      "metadata": {
        "id": "6Ow5fwA6Jqwi",
        "colab_type": "code",
        "colab": {}
      },
      "source": [
        "from scipy.stats import bernoulli"
      ],
      "execution_count": 19,
      "outputs": []
    },
    {
      "cell_type": "code",
      "metadata": {
        "id": "7RZ3rBFiOmjQ",
        "colab_type": "code",
        "colab": {}
      },
      "source": [
        "p = 0.3\n",
        "mean, var, skew, kurt = bernoulli.stats(p, moments='mvsk')"
      ],
      "execution_count": 20,
      "outputs": []
    },
    {
      "cell_type": "code",
      "metadata": {
        "id": "hBrpEoHLOrRi",
        "colab_type": "code",
        "colab": {
          "base_uri": "https://localhost:8080/",
          "height": 34
        },
        "outputId": "9123abf9-5ce7-4321-fe85-897bc0ddef10"
      },
      "source": [
        "mean"
      ],
      "execution_count": 21,
      "outputs": [
        {
          "output_type": "execute_result",
          "data": {
            "text/plain": [
              "array(0.3)"
            ]
          },
          "metadata": {
            "tags": []
          },
          "execution_count": 21
        }
      ]
    },
    {
      "cell_type": "code",
      "metadata": {
        "id": "JK_Ny194OsWa",
        "colab_type": "code",
        "colab": {
          "base_uri": "https://localhost:8080/",
          "height": 34
        },
        "outputId": "a3d34120-3ea3-4220-d153-8f9f826f95d0"
      },
      "source": [
        "var"
      ],
      "execution_count": 22,
      "outputs": [
        {
          "output_type": "execute_result",
          "data": {
            "text/plain": [
              "array(0.21)"
            ]
          },
          "metadata": {
            "tags": []
          },
          "execution_count": 22
        }
      ]
    },
    {
      "cell_type": "code",
      "metadata": {
        "id": "oAODF_eROtmr",
        "colab_type": "code",
        "colab": {}
      },
      "source": [
        ""
      ],
      "execution_count": null,
      "outputs": []
    },
    {
      "cell_type": "markdown",
      "metadata": {
        "id": "ku9AVgGdO2Ye",
        "colab_type": "text"
      },
      "source": [
        "## Binomial"
      ]
    },
    {
      "cell_type": "code",
      "metadata": {
        "id": "fwwCG4iVO4IW",
        "colab_type": "code",
        "colab": {}
      },
      "source": [
        "n, p = 10, .5  # numero de realizaciones, probabilidad en cada intento\n",
        "s = np.random.binomial(n, p, 1000)"
      ],
      "execution_count": 24,
      "outputs": []
    },
    {
      "cell_type": "code",
      "metadata": {
        "id": "-x002wSZO5wP",
        "colab_type": "code",
        "colab": {
          "base_uri": "https://localhost:8080/",
          "height": 1000
        },
        "outputId": "3095f5c0-aa59-403f-8ec6-3baaa4f6dca9"
      },
      "source": [
        "s"
      ],
      "execution_count": 26,
      "outputs": [
        {
          "output_type": "execute_result",
          "data": {
            "text/plain": [
              "array([ 6,  6,  6,  3,  3,  1,  7,  8,  6,  4,  4,  6,  2,  7,  7,  6,  3,\n",
              "        5,  7,  3,  4,  5,  2,  5,  6,  5,  4,  6,  7,  5,  4,  4,  7,  4,\n",
              "        3,  7,  4,  7,  6,  4,  3,  6,  6,  3,  5,  5,  7,  4,  4,  7,  3,\n",
              "        5,  8,  5,  6,  7,  2,  4,  4,  3,  5,  6,  9,  4,  4,  6,  5,  4,\n",
              "        4,  3,  8,  5,  4,  4,  8,  7,  5,  7,  3,  4,  4,  8,  6,  6,  4,\n",
              "        4,  2,  1,  5,  4,  6,  3,  6,  5,  4,  5,  5,  3,  5,  6,  6,  5,\n",
              "        6,  3,  4,  5,  2,  6,  1,  6,  6,  6,  4,  5,  5,  7,  5,  8,  6,\n",
              "        7,  5,  6,  4,  6,  5,  6,  8,  6,  6,  8,  8,  4,  5,  4,  7,  7,\n",
              "        5,  4,  4,  8,  6,  6,  5,  8,  7,  6,  6,  4,  5,  5,  6,  5,  2,\n",
              "        3,  7,  7,  2,  6,  7,  3,  7,  7,  3,  3,  8,  5,  7,  6,  4,  5,\n",
              "        4,  4,  6,  2,  1,  3,  3,  7,  7,  7,  5,  5,  4,  6,  6,  3,  3,\n",
              "        6,  5,  5,  3,  5,  3,  4,  3,  2,  4,  6,  4,  7,  5,  4,  6,  1,\n",
              "        6,  4,  5,  5,  5,  4,  8,  6,  6,  5,  5,  4,  5,  7,  4,  2,  6,\n",
              "        3,  5,  4,  7,  3,  6,  6,  6,  5,  4,  5,  6,  6,  3,  6,  5,  4,\n",
              "        5,  4,  6,  5,  6,  5,  3,  6,  5,  6,  2,  5,  5,  6,  6,  3,  5,\n",
              "        6,  3,  7,  5,  3,  4,  4,  6,  6,  5,  5,  7,  9,  5,  5,  6,  7,\n",
              "        6,  5,  3,  6,  5,  3,  6,  3,  5,  3,  6,  6,  4,  6,  7,  4,  3,\n",
              "        7,  5,  6,  4,  4,  6,  4,  7,  4,  3,  6,  6,  8,  5,  3,  5,  8,\n",
              "        4,  3,  2,  3,  3,  7,  7,  1,  4,  8,  3,  5,  5,  6,  2,  6,  6,\n",
              "        6,  5,  7,  4,  4,  3,  1,  4,  4,  5,  5,  6,  6,  2,  7,  5,  7,\n",
              "        6,  6,  6,  7,  6,  5,  4,  6,  5,  7,  8,  4,  3,  5,  6,  4,  3,\n",
              "        3,  4,  4,  4,  5,  6,  3,  6,  3,  7,  6,  5,  5,  5,  5,  6,  4,\n",
              "        5,  5,  6,  2,  3,  4,  6,  3,  5,  5,  6,  5,  2,  4,  6,  4,  6,\n",
              "        5,  6,  7,  6,  3,  2,  7,  5,  5,  5,  5,  1,  4,  5,  5,  8,  6,\n",
              "        4,  4,  5,  4,  4,  6,  7,  4,  3,  5,  6,  8,  2,  7,  4,  7,  4,\n",
              "        4,  3,  6,  2,  6,  6,  6,  3,  5,  3,  5,  4,  4,  5,  7,  4,  4,\n",
              "        4,  9,  5,  5,  6,  6,  7,  4,  7,  5,  9,  3,  5,  7,  7,  5,  4,\n",
              "        3,  3,  5,  4,  7,  8,  3,  2,  5,  3,  3,  4,  5,  4,  7,  6,  8,\n",
              "        5,  4,  4,  4,  4,  6,  4,  7,  5,  4,  6,  3,  6,  5,  5,  6,  5,\n",
              "        5,  4,  5,  3,  3,  6,  3,  4,  4,  6,  6,  7,  3,  5,  5,  5,  1,\n",
              "        5,  6,  4,  5,  5,  5,  4,  4,  5,  4,  8,  5,  5,  5,  5,  4,  7,\n",
              "        4,  4,  4,  5,  2,  8, 10,  3,  2,  6,  4,  4,  3,  4,  5,  6,  6,\n",
              "        2,  5,  3,  4,  3,  6,  7,  6,  5,  9,  5,  7,  4,  6,  4,  4,  6,\n",
              "        8,  5,  4,  3,  4,  6,  3,  7,  4,  5,  7,  5,  4,  6,  6,  7,  5,\n",
              "        5,  6,  5,  6,  5,  5,  4,  6,  5,  7,  5,  2,  3,  7,  3,  6,  5,\n",
              "        5,  4,  6,  6,  7,  4,  4,  3,  2,  7,  4,  7,  4,  4,  5,  5,  6,\n",
              "        7,  6,  5,  6,  6,  8,  5,  7,  7,  4,  6,  5,  4,  7,  6,  3,  6,\n",
              "        8,  8,  4,  7,  7,  6,  6,  5,  4,  7,  6,  8,  3,  2,  3,  4,  8,\n",
              "        2,  3,  6,  6,  4,  5,  5,  5,  4,  5,  4,  5,  3,  4,  4,  3,  6,\n",
              "        4,  3,  4,  3,  5,  6,  4,  4,  5,  3,  4,  7,  4,  8,  4,  4,  6,\n",
              "        4,  3,  6,  5,  4,  7,  4,  3,  2,  4,  8,  5,  5,  5,  6,  4,  3,\n",
              "        3,  4,  7,  3,  4,  6,  6,  7,  4,  1,  3,  5,  5,  5,  6,  5,  8,\n",
              "        5,  4,  7,  5,  7,  4,  5,  3,  4,  6,  6,  4,  5,  5,  4,  6,  6,\n",
              "        7,  6,  6,  6,  7,  5,  7,  6,  6,  5,  6,  5,  5,  5,  6,  3,  7,\n",
              "        4,  4,  3,  6,  4,  4,  4,  4,  7,  4,  5,  4,  5,  4,  4,  3,  7,\n",
              "        7,  1,  5,  7,  3,  6,  6,  4,  8,  6,  3,  5,  7,  6,  5,  4,  2,\n",
              "        3,  5,  7,  6,  5,  7,  6,  7,  3,  6,  4,  5,  6,  6,  6,  6,  7,\n",
              "        8,  6,  7,  7,  3,  5,  7,  5,  5,  7,  6,  4,  4,  3,  1,  7,  5,\n",
              "        5,  5,  3,  7,  4,  5,  6,  5,  3,  4,  2,  7,  6,  5,  3,  5,  4,\n",
              "        3,  6,  7,  8,  6,  7,  6,  4,  5,  3,  4,  7,  2,  5,  5,  4,  7,\n",
              "        7,  6,  7,  6,  4,  4,  3,  3,  3,  8,  5,  2,  5,  6,  8,  4,  6,\n",
              "        6,  6,  2,  5,  5,  6,  4,  6,  4,  8,  5,  6,  7,  6,  3,  6,  6,\n",
              "        2,  4,  5,  4,  5,  8,  4,  6,  5,  4,  5,  5,  8,  4,  5,  5,  7,\n",
              "        5,  5,  6,  6,  1,  1,  3,  6,  3,  4,  6,  8,  4,  3,  6,  4,  4,\n",
              "        4,  7,  4,  5,  5,  2,  5,  6,  6,  3,  3,  6,  4,  7,  5,  5,  8,\n",
              "        6,  5,  7,  4,  5,  6,  3,  8,  4,  4,  5,  4,  8,  6,  4,  7,  5,\n",
              "        3,  3,  5,  5,  4,  4,  4,  5,  8,  6,  5,  5,  6,  7,  5,  8,  7,\n",
              "        5,  7,  4,  5,  8,  8,  5,  4,  4,  3,  6,  5,  5,  5,  5,  6,  7,\n",
              "        5,  5,  5,  7,  8,  4,  6,  8,  5,  7,  5,  5,  5,  6])"
            ]
          },
          "metadata": {
            "tags": []
          },
          "execution_count": 26
        }
      ]
    },
    {
      "cell_type": "code",
      "metadata": {
        "id": "kFeXJD3SPDgk",
        "colab_type": "code",
        "colab": {
          "base_uri": "https://localhost:8080/",
          "height": 34
        },
        "outputId": "13356c73-3dc5-46c9-f3d7-c8053251f827"
      },
      "source": [
        "np.mean(s)"
      ],
      "execution_count": 27,
      "outputs": [
        {
          "output_type": "execute_result",
          "data": {
            "text/plain": [
              "5.019"
            ]
          },
          "metadata": {
            "tags": []
          },
          "execution_count": 27
        }
      ]
    },
    {
      "cell_type": "markdown",
      "metadata": {
        "id": "WoTmhPZbQFBX",
        "colab_type": "text"
      },
      "source": [
        "## Multinomial"
      ]
    },
    {
      "cell_type": "markdown",
      "metadata": {
        "id": "rja-3GtlQSI1",
        "colab_type": "text"
      },
      "source": [
        "Lanzar un dado 20 veces"
      ]
    },
    {
      "cell_type": "code",
      "metadata": {
        "id": "iWTqd9ByQGbb",
        "colab_type": "code",
        "colab": {
          "base_uri": "https://localhost:8080/",
          "height": 34
        },
        "outputId": "d3cd9a2a-fa82-4b71-e819-b8ee9554fbd3"
      },
      "source": [
        "np.random.seed(0)\n",
        "np.random.multinomial(20, [1/6.]*6, size=1)"
      ],
      "execution_count": 39,
      "outputs": [
        {
          "output_type": "execute_result",
          "data": {
            "text/plain": [
              "array([[3, 4, 4, 3, 3, 3]])"
            ]
          },
          "metadata": {
            "tags": []
          },
          "execution_count": 39
        }
      ]
    },
    {
      "cell_type": "code",
      "metadata": {
        "id": "n1A11cduWdHO",
        "colab_type": "code",
        "colab": {
          "base_uri": "https://localhost:8080/",
          "height": 118
        },
        "outputId": "8cd27494-05b5-4b95-c0f2-190313e3340e"
      },
      "source": [
        "[1/6.]*6"
      ],
      "execution_count": 40,
      "outputs": [
        {
          "output_type": "execute_result",
          "data": {
            "text/plain": [
              "[0.16666666666666666,\n",
              " 0.16666666666666666,\n",
              " 0.16666666666666666,\n",
              " 0.16666666666666666,\n",
              " 0.16666666666666666,\n",
              " 0.16666666666666666]"
            ]
          },
          "metadata": {
            "tags": []
          },
          "execution_count": 40
        }
      ]
    },
    {
      "cell_type": "code",
      "metadata": {
        "id": "tanmU78LQQAv",
        "colab_type": "code",
        "colab": {
          "base_uri": "https://localhost:8080/",
          "height": 50
        },
        "outputId": "bc873a52-6e17-43e8-b687-0249834b9038"
      },
      "source": [
        "np.random.multinomial(20, [1/6.]*6, size=2)"
      ],
      "execution_count": 31,
      "outputs": [
        {
          "output_type": "execute_result",
          "data": {
            "text/plain": [
              "array([[4, 3, 5, 5, 1, 2],\n",
              "       [5, 3, 3, 5, 1, 3]])"
            ]
          },
          "metadata": {
            "tags": []
          },
          "execution_count": 31
        }
      ]
    },
    {
      "cell_type": "code",
      "metadata": {
        "id": "nknXnvN2QsTH",
        "colab_type": "code",
        "colab": {}
      },
      "source": [
        ""
      ],
      "execution_count": null,
      "outputs": []
    },
    {
      "cell_type": "markdown",
      "metadata": {
        "id": "b-lrWl2cSFWx",
        "colab_type": "text"
      },
      "source": [
        "## Ejercicio"
      ]
    },
    {
      "cell_type": "markdown",
      "metadata": {
        "id": "IeQJ0O5VSHi-",
        "colab_type": "text"
      },
      "source": [
        "Se lanzan 2 dados de 4 caras. Sea $X$ la variable aleatoria que corresponde a la suma del resultado de los lanzamientos. a) Cual es el espacio muestral $S$ de $X$. b) Asumir que cualquier par (1,1), (1,2), ..., (4,4) son igualmente probables, cuales son la probabilidades que tiene cada $x_i\\in S$. c) Cual valor de X tiene mayor probabilidad?"
      ]
    },
    {
      "cell_type": "markdown",
      "metadata": {
        "id": "S-s35NW4XMl_",
        "colab_type": "text"
      },
      "source": [
        "X=4 -> (1,3), (2,2), (3,1)"
      ]
    },
    {
      "cell_type": "code",
      "metadata": {
        "id": "vsE4ARaXSGyg",
        "colab_type": "code",
        "colab": {}
      },
      "source": [
        ""
      ],
      "execution_count": null,
      "outputs": []
    }
  ]
}