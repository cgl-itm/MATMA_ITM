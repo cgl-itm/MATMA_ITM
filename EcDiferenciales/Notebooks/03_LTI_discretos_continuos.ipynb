{
  "cells": [
    {
      "attachments": {},
      "cell_type": "markdown",
      "metadata": {
        "id": "7PW1X2fk_XkA"
      },
      "source": [
        "# Sistemas LTI continuos y discretos"
      ]
    },
    {
      "cell_type": "code",
      "execution_count": 1,
      "metadata": {
        "id": "-XOpxE1il-Lj"
      },
      "outputs": [],
      "source": [
        "from scipy import signal"
      ]
    },
    {
      "attachments": {},
      "cell_type": "markdown",
      "metadata": {
        "id": "QqyoJqiQ_fC8"
      },
      "source": [
        "## Ejemplo: creamos un sistema LTI con la siguiente funcion de transferencia:\n",
        "$$ H(s) = \\frac{5}{(s+3)(s-4)} = \\frac{5}{s^2-s-12}$$"
      ]
    },
    {
      "cell_type": "code",
      "execution_count": 2,
      "metadata": {
        "colab": {
          "base_uri": "https://localhost:8080/"
        },
        "id": "jGclsEjBl_Lq",
        "outputId": "6b97d39a-4a94-4ff5-8897-c6d63b921ff4"
      },
      "outputs": [
        {
          "name": "stdout",
          "output_type": "stream",
          "text": [
            "ZerosPolesGainContinuous(\n",
            "array([], dtype=float64),\n",
            "array([-3,  4]),\n",
            "5,\n",
            "dt: None\n",
            ")\n"
          ]
        }
      ],
      "source": [
        "zpk_con = signal.ZerosPolesGain([], [-3, 4], 5)\n",
        "print(zpk_con)"
      ]
    },
    {
      "cell_type": "code",
      "execution_count": 3,
      "metadata": {
        "colab": {
          "base_uri": "https://localhost:8080/"
        },
        "id": "29hr2Ep5fUDZ",
        "outputId": "a6757764-9218-43f1-e7b3-c533c2562d49"
      },
      "outputs": [
        {
          "name": "stdout",
          "output_type": "stream",
          "text": [
            "(array([5.]), array([  1.,  -1., -12.]))\n"
          ]
        }
      ],
      "source": [
        "tfsys = signal.zpk2tf([], [-3, 4], 5)\n",
        "print(tfsys)"
      ]
    },
    {
      "cell_type": "code",
      "execution_count": 4,
      "metadata": {
        "colab": {
          "base_uri": "https://localhost:8080/"
        },
        "id": "27Z1B4mvgXYn",
        "outputId": "d5095c61-63ed-430f-fb50-897307407133"
      },
      "outputs": [
        {
          "name": "stdout",
          "output_type": "stream",
          "text": [
            "TransferFunctionContinuous(\n",
            "array([5.]),\n",
            "array([  1.,  -1., -12.]),\n",
            "dt: None\n",
            ")\n"
          ]
        }
      ],
      "source": [
        "tfsys2 = zpk_con.to_tf()\n",
        "print(tfsys2)"
      ]
    },
    {
      "attachments": {},
      "cell_type": "markdown",
      "metadata": {
        "id": "vtAPpJHE_2fd"
      },
      "source": [
        "A partir de el sistema continuo se construyen los sistemas discretos usando un retenedor de orden cero (ZOH). Se emplean los tiempos de muestreo 0.1s y 0.5s."
      ]
    },
    {
      "cell_type": "code",
      "execution_count": 5,
      "metadata": {
        "colab": {
          "base_uri": "https://localhost:8080/"
        },
        "id": "y08TqxqbmDxB",
        "outputId": "c4565210-d3e7-408b-e0b5-e9dc72c21d86"
      },
      "outputs": [
        {
          "name": "stdout",
          "output_type": "stream",
          "text": [
            "ZerosPolesGainDiscrete(\n",
            "array([-1.03375533]),\n",
            "array([1.4918247 , 0.74081822]),\n",
            "0.026115891407779035,\n",
            "dt: 0.1\n",
            ")\n",
            "ZerosPolesGainDiscrete(\n",
            "array([-1.16344507]),\n",
            "array([7.3890561 , 0.22313016]),\n",
            "0.955933865320576,\n",
            "dt: 0.5\n",
            ")\n"
          ]
        },
        {
          "name": "stderr",
          "output_type": "stream",
          "text": [
            "c:\\Users\\cdgua\\AppData\\Local\\Programs\\Python\\Python310\\lib\\site-packages\\scipy\\signal\\_filter_design.py:1746: BadCoefficients: Badly conditioned filter coefficients (numerator): the results may be meaningless\n",
            "  warnings.warn(\"Badly conditioned filter coefficients (numerator): the \"\n"
          ]
        }
      ],
      "source": [
        "dt = 0.1\n",
        "dt2 = 0.5\n",
        "zpk_dis = zpk_con.to_discrete(dt)\n",
        "zpk_dis2 = zpk_con.to_discrete(dt2)\n",
        "print(zpk_dis)\n",
        "print(zpk_dis2)"
      ]
    },
    {
      "attachments": {},
      "cell_type": "markdown",
      "metadata": {
        "id": "djZJWahRCHdl"
      },
      "source": [
        "## Graficas de las respuestas al escalon para cada sistema"
      ]
    },
    {
      "cell_type": "code",
      "execution_count": 6,
      "metadata": {
        "id": "1CQRgKfJmSEx"
      },
      "outputs": [],
      "source": [
        "import matplotlib.pyplot as plt\n",
        "import numpy as np\n",
        "%matplotlib inline"
      ]
    },
    {
      "cell_type": "code",
      "execution_count": 7,
      "metadata": {
        "id": "oddxnZ2Qn4O1"
      },
      "outputs": [],
      "source": [
        "t = np.linspace(0,4,1000)\n",
        "td, yd = signal.dstep(zpk_dis, t=t)\n",
        "td2, yd2 = signal.dstep(zpk_dis2, t=t)\n",
        "_, yc = signal.step(zpk_con,T=t)\n"
      ]
    },
    {
      "cell_type": "code",
      "execution_count": 8,
      "metadata": {
        "colab": {
          "base_uri": "https://localhost:8080/",
          "height": 296
        },
        "id": "1DheMNpk5Sq4",
        "outputId": "9ed94419-5308-446a-e3a9-220d74888a37"
      },
      "outputs": [
        {
          "data": {
            "text/plain": [
              "Text(0, 0.5, 'Amplitude')"
            ]
          },
          "execution_count": 8,
          "metadata": {},
          "output_type": "execute_result"
        },
        {
          "data": {
            "image/png": "[encoded data removed]",
            "text/plain": [
              "<Figure size 640x480 with 1 Axes>"
            ]
          },
          "metadata": {},
          "output_type": "display_data"
        }
      ],
      "source": [
        "plt.plot(t, yc)\n",
        "plt.step(td, np.squeeze(yd),'--r')\n",
        "plt.step(td2, np.squeeze(yd2),'--g')\n",
        "plt.grid()\n",
        "plt.xlabel('n [samples]')\n",
        "plt.ylabel('Amplitude')"
      ]
    },
    {
      "attachments": {},
      "cell_type": "markdown",
      "metadata": {},
      "source": [
        "## Simulacion respuesta sistema discreto"
      ]
    },
    {
      "attachments": {},
      "cell_type": "markdown",
      "metadata": {},
      "source": [
        "$$ \\frac{Y[z]}{R[z]} = \\frac{0.3678z+0.2644}{z^2-1.3678z+0.3678} $$\n",
        "$$ y[n+2]  = 1.3678 y[n+1] - 0.3678 y[n] + 0.3678 r[n+1] + 0.2644 r[n]$$"
      ]
    },
    {
      "cell_type": "code",
      "execution_count": 9,
      "metadata": {},
      "outputs": [],
      "source": [
        "t = np.linspace(0,1,100)\n",
        "r = np.sin(2*np.pi*500*t) #Frecuencia de 500 Hz\n",
        "y = np.zeros_like(t)\n",
        "for k in range(2,100):\n",
        "    y[k] = 1.3678*y[k-1]-0.3678*y[k-2]+0.3678*r[k-1]+0.2644*r[k-2]"
      ]
    },
    {
      "cell_type": "code",
      "execution_count": 10,
      "metadata": {},
      "outputs": [
        {
          "data": {
            "text/plain": [
              "[<matplotlib.lines.Line2D at 0x1442d670a60>]"
            ]
          },
          "execution_count": 10,
          "metadata": {},
          "output_type": "execute_result"
        },
        {
          "data": {
            "image/png": "[encoded data removed]",
            "text/plain": [
              "<Figure size 640x480 with 1 Axes>"
            ]
          },
          "metadata": {},
          "output_type": "display_data"
        }
      ],
      "source": [
        "plt.step(t, y)\n",
        "plt.step(t,r,'--r')"
      ]
    },
    {
      "attachments": {},
      "cell_type": "markdown",
      "metadata": {
        "id": "CpA-VkHAAh0F"
      },
      "source": [
        "# Ejercicios: Analizar los polos y ceros (continuos y discretos) de los siguientes sistemas LTI e indicar si son estables"
      ]
    },
    {
      "attachments": {},
      "cell_type": "markdown",
      "metadata": {
        "id": "mCVxUvzNAsN0"
      },
      "source": [
        "## 1) Cual es el sistema discreto para $T=0.5$, si $$ H(s) = \\frac{1}{s^2+s+1} $$"
      ]
    },
    {
      "cell_type": "code",
      "execution_count": null,
      "metadata": {
        "id": "9uPdv3IbAq_d"
      },
      "outputs": [],
      "source": [
        "#TODO"
      ]
    },
    {
      "attachments": {},
      "cell_type": "markdown",
      "metadata": {
        "id": "HWQy-PU7BF5M"
      },
      "source": [
        "## 2)  Determinar las ecuaciones en diferencia para $T=0.1$, si $$ H(s) = \\frac{1}{(s-2)(s-3)} $$"
      ]
    },
    {
      "cell_type": "code",
      "execution_count": null,
      "metadata": {
        "id": "LLu2Cx0aBE7Q"
      },
      "outputs": [],
      "source": [
        "#TODO"
      ]
    },
    {
      "attachments": {},
      "cell_type": "markdown",
      "metadata": {
        "id": "6DYAAxeYBh4V"
      },
      "source": [
        "## 3) Encontrar el modelo de espacios discreto si T=0.1 y\n",
        "$$ H[z] = \\frac{1}{z^2-3z+1} $$ \n",
        "Usar [scipy.signal.dlti](https://docs.scipy.org/doc/scipy/reference/generated/scipy.signal.dlti.html)"
      ]
    },
    {
      "cell_type": "code",
      "execution_count": null,
      "metadata": {
        "id": "K3D0ipE9Bgx5"
      },
      "outputs": [],
      "source": [
        "#TODO definir la funcion de transferencia discetro"
      ]
    },
    {
      "attachments": {},
      "cell_type": "markdown",
      "metadata": {
        "id": "XlBPHhRvNd-4"
      },
      "source": [
        "Determinar los ceros, polos y la ganancia"
      ]
    },
    {
      "cell_type": "code",
      "execution_count": null,
      "metadata": {
        "id": "8ceueroeC0vA"
      },
      "outputs": [],
      "source": [
        "#TODO convertir la funcion de transferencia a ZPK"
      ]
    }
  ],
  "metadata": {
    "colab": {
      "collapsed_sections": [],
      "name": "LTI_discretos_continuos.ipynb",
      "provenance": []
    },
    "kernelspec": {
      "display_name": "Python 3",
      "name": "python3"
    },
    "language_info": {
      "codemirror_mode": {
        "name": "ipython",
        "version": 3
      },
      "file_extension": ".py",
      "mimetype": "text/x-python",
      "name": "python",
      "nbconvert_exporter": "python",
      "pygments_lexer": "ipython3",
      "version": "3.10.9"
    }
  },
  "nbformat": 4,
  "nbformat_minor": 0
}
