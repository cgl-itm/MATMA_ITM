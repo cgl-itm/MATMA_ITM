{
  "nbformat": 4,
  "nbformat_minor": 0,
  "metadata": {
    "colab": {
      "name": "LTI_discretos_continuos.ipynb",
      "provenance": [],
      "collapsed_sections": []
    },
    "kernelspec": {
      "name": "python3",
      "display_name": "Python 3"
    }
  },
  "cells": [
    {
      "cell_type": "markdown",
      "metadata": {
        "id": "7PW1X2fk_XkA"
      },
      "source": [
        "# Sistemas LTI continuos y discretos"
      ]
    },
    {
      "cell_type": "code",
      "metadata": {
        "id": "-XOpxE1il-Lj"
      },
      "source": [
        "from scipy import signal"
      ],
      "execution_count": 1,
      "outputs": []
    },
    {
      "cell_type": "markdown",
      "metadata": {
        "id": "QqyoJqiQ_fC8"
      },
      "source": [
        "## Ejemplo: creamos un sistema LTI con la siguiente funcion de transferencia:\n",
        "$$ H(s) = \\frac{5}{(s+3)(s-4)} = \\frac{5}{s^2-s-12}$$"
      ]
    },
    {
      "cell_type": "code",
      "metadata": {
        "id": "jGclsEjBl_Lq",
        "colab": {
          "base_uri": "https://localhost:8080/"
        },
        "outputId": "6b97d39a-4a94-4ff5-8897-c6d63b921ff4"
      },
      "source": [
        "zpk_con = signal.ZerosPolesGain([], [-3, 4], 5)\n",
        "print(zpk_con)"
      ],
      "execution_count": 12,
      "outputs": [
        {
          "output_type": "stream",
          "text": [
            "ZerosPolesGainContinuous(\n",
            "array([], dtype=float64),\n",
            "array([-3,  4]),\n",
            "5,\n",
            "dt: None\n",
            ")\n"
          ],
          "name": "stdout"
        }
      ]
    },
    {
      "cell_type": "code",
      "metadata": {
        "id": "29hr2Ep5fUDZ",
        "outputId": "a6757764-9218-43f1-e7b3-c533c2562d49",
        "colab": {
          "base_uri": "https://localhost:8080/"
        }
      },
      "source": [
        "tfsys = signal.zpk2tf([], [-3, 4], 5)\n",
        "print(tfsys)"
      ],
      "execution_count": 16,
      "outputs": [
        {
          "output_type": "stream",
          "text": [
            "(array([5.]), array([  1.,  -1., -12.]))\n"
          ],
          "name": "stdout"
        }
      ]
    },
    {
      "cell_type": "code",
      "metadata": {
        "id": "27Z1B4mvgXYn",
        "outputId": "d5095c61-63ed-430f-fb50-897307407133",
        "colab": {
          "base_uri": "https://localhost:8080/"
        }
      },
      "source": [
        "tfsys2 = zpk_con.to_tf()\n",
        "print(tfsys2)"
      ],
      "execution_count": 17,
      "outputs": [
        {
          "output_type": "stream",
          "text": [
            "TransferFunctionContinuous(\n",
            "array([5.]),\n",
            "array([  1.,  -1., -12.]),\n",
            "dt: None\n",
            ")\n"
          ],
          "name": "stdout"
        }
      ]
    },
    {
      "cell_type": "markdown",
      "metadata": {
        "id": "vtAPpJHE_2fd"
      },
      "source": [
        "A partir de el sistema continuo se construyen los sistemas discretos usando un retenedor de orden cero (ZOH). Se emplean los tiempos de muestreo 0.1s y 0.5s."
      ]
    },
    {
      "cell_type": "code",
      "metadata": {
        "id": "y08TqxqbmDxB",
        "colab": {
          "base_uri": "https://localhost:8080/"
        },
        "outputId": "c4565210-d3e7-408b-e0b5-e9dc72c21d86"
      },
      "source": [
        "dt = 0.1\n",
        "dt2 = 0.5\n",
        "zpk_dis = zpk_con.to_discrete(dt)\n",
        "zpk_dis2 = zpk_con.to_discrete(dt2)\n",
        "print(zpk_dis)\n",
        "print(zpk_dis2)"
      ],
      "execution_count": 18,
      "outputs": [
        {
          "output_type": "stream",
          "text": [
            "ZerosPolesGainDiscrete(\n",
            "array([-1.03375533]),\n",
            "array([1.4918247 , 0.74081822]),\n",
            "0.02611589140777859,\n",
            "dt: 0.1\n",
            ")\n",
            "ZerosPolesGainDiscrete(\n",
            "array([-1.16344507]),\n",
            "array([7.3890561 , 0.22313016]),\n",
            "0.9559338653205769,\n",
            "dt: 0.5\n",
            ")\n"
          ],
          "name": "stdout"
        },
        {
          "output_type": "stream",
          "text": [
            "/usr/local/lib/python3.7/dist-packages/scipy/signal/filter_design.py:1622: BadCoefficients: Badly conditioned filter coefficients (numerator): the results may be meaningless\n",
            "  \"results may be meaningless\", BadCoefficients)\n"
          ],
          "name": "stderr"
        }
      ]
    },
    {
      "cell_type": "markdown",
      "metadata": {
        "id": "djZJWahRCHdl"
      },
      "source": [
        "## Graficas de las respuestas al escalon para cada sistema"
      ]
    },
    {
      "cell_type": "code",
      "metadata": {
        "id": "1CQRgKfJmSEx"
      },
      "source": [
        "import matplotlib.pyplot as plt\n",
        "import numpy as np\n",
        "%matplotlib inline"
      ],
      "execution_count": 4,
      "outputs": []
    },
    {
      "cell_type": "code",
      "metadata": {
        "id": "oddxnZ2Qn4O1"
      },
      "source": [
        "t = np.linspace(0,4,1000)\n",
        "td, yd = signal.dstep(zpk_dis, t=t)\n",
        "td2, yd2 = signal.dstep(zpk_dis2, t=t)\n",
        "_, yc = signal.step(zpk_con,T=t)\n"
      ],
      "execution_count": 5,
      "outputs": []
    },
    {
      "cell_type": "code",
      "metadata": {
        "id": "1DheMNpk5Sq4",
        "colab": {
          "base_uri": "https://localhost:8080/",
          "height": 296
        },
        "outputId": "9ed94419-5308-446a-e3a9-220d74888a37"
      },
      "source": [
        "plt.plot(t, yc)\n",
        "plt.step(td, np.squeeze(yd),'--r')\n",
        "plt.step(td2, np.squeeze(yd2),'--g')\n",
        "plt.grid()\n",
        "plt.xlabel('n [samples]')\n",
        "plt.ylabel('Amplitude')"
      ],
      "execution_count": 6,
      "outputs": [
        {
          "output_type": "execute_result",
          "data": {
            "text/plain": [
              "Text(0, 0.5, 'Amplitude')"
            ]
          },
          "metadata": {
            "tags": []
          },
          "execution_count": 6
        },
        {
          "output_type": "display_data",
          "data": {
            "image/png": "[encoded data removed]",
            "text/plain": [
              "<Figure size 432x288 with 1 Axes>"
            ]
          },
          "metadata": {
            "tags": [],
            "needs_background": "light"
          }
        }
      ]
    },
    {
      "cell_type": "markdown",
      "metadata": {
        "id": "CpA-VkHAAh0F"
      },
      "source": [
        "# Ejercicios: Analizar los polos y ceros (continuos y discretos) de los siguientes sistemas LTI e indicar si son estables"
      ]
    },
    {
      "cell_type": "markdown",
      "metadata": {
        "id": "mCVxUvzNAsN0"
      },
      "source": [
        "## 1) Cual es el sistema discreto para $T=0.5$, si $$ H(s) = \\frac{1}{s^2+s+1} $$"
      ]
    },
    {
      "cell_type": "code",
      "metadata": {
        "id": "9uPdv3IbAq_d"
      },
      "source": [
        "#TODO"
      ],
      "execution_count": 7,
      "outputs": []
    },
    {
      "cell_type": "markdown",
      "metadata": {
        "id": "HWQy-PU7BF5M"
      },
      "source": [
        "## 2)  Determinar las ecuaciones en diferencia para $T=0.1$, si $$ H(s) = \\frac{1}{(s-2)(s-3)} $$"
      ]
    },
    {
      "cell_type": "code",
      "metadata": {
        "id": "LLu2Cx0aBE7Q"
      },
      "source": [
        "#TODO"
      ],
      "execution_count": 8,
      "outputs": []
    },
    {
      "cell_type": "markdown",
      "metadata": {
        "id": "6DYAAxeYBh4V"
      },
      "source": [
        "## 3) Encontrar el modelo de espacios discreto si T=0.1 y\n",
        "$$ H[z] = \\frac{1}{z^2-3z+1} $$ \n",
        "Usar [scipy.signal.dlti](https://docs.scipy.org/doc/scipy/reference/generated/scipy.signal.dlti.html)"
      ]
    },
    {
      "cell_type": "code",
      "metadata": {
        "id": "K3D0ipE9Bgx5"
      },
      "source": [
        "#TODO definir la funcion de transferencia discetro"
      ],
      "execution_count": 9,
      "outputs": []
    },
    {
      "cell_type": "markdown",
      "metadata": {
        "id": "XlBPHhRvNd-4"
      },
      "source": [
        "Determinar los ceros, polos y la ganancia"
      ]
    },
    {
      "cell_type": "code",
      "metadata": {
        "id": "8ceueroeC0vA"
      },
      "source": [
        "#TODO convertir la funcion de transferencia a ZPK"
      ],
      "execution_count": 10,
      "outputs": []
    }
  ]
}
