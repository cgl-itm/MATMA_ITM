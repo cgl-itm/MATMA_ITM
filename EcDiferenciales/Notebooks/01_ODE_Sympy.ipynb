{
  "nbformat": 4,
  "nbformat_minor": 0,
  "metadata": {
    "colab": {
      "name": "ODE_Sympy.ipynb",
      "provenance": [],
      "collapsed_sections": []
    },
    "kernelspec": {
      "name": "python3",
      "display_name": "Python 3"
    }
  },
  "cells": [
    {
      "cell_type": "markdown",
      "metadata": {
        "id": "_HkVR6CyRYA_"
      },
      "source": [
        "# Solucion de ODEs con SymPy "
      ]
    },
    {
      "cell_type": "code",
      "metadata": {
        "id": "PKxuYp8-77sX"
      },
      "source": [
        "import sympy as sym"
      ],
      "execution_count": 1,
      "outputs": []
    },
    {
      "cell_type": "markdown",
      "metadata": {
        "id": "oIJHWeBjSGL8"
      },
      "source": [
        "Encontramos la solucion de la siguiente ecuacion diferencial de primer orden <br>\n",
        "1) $\\frac{\\operatorname{d} f(x)}{\\operatorname{d}x} -\\frac{2}{x}f(x) = 0$"
      ]
    },
    {
      "cell_type": "code",
      "metadata": {
        "id": "7tG8q_i27-Mo",
        "colab": {
          "base_uri": "https://localhost:8080/"
        },
        "outputId": "c01d9e4e-2136-4b85-e8e0-bb0e13131d7d"
      },
      "source": [
        "from sympy import Function, dsolve, Eq, Derivative, solve, symbols, pprint\n",
        "from sympy.abc import x\n",
        "f = Function('f')\n",
        "pprint(dsolve(Derivative(f(x), x) - 2*f(x)/x, f(x)))"
      ],
      "execution_count": 2,
      "outputs": [
        {
          "output_type": "stream",
          "text": [
            "           2\n",
            "f(x) = C₁⋅x \n"
          ],
          "name": "stdout"
        }
      ]
    },
    {
      "cell_type": "markdown",
      "metadata": {
        "id": "0kMHJcfzSYfE"
      },
      "source": [
        "Como calcular el factor integrante calculando la integral"
      ]
    },
    {
      "cell_type": "code",
      "metadata": {
        "id": "Q7Wa8L408Fif",
        "colab": {
          "base_uri": "https://localhost:8080/"
        },
        "outputId": "f7e52f17-2c1e-4d31-b2c7-0011c00a9a87"
      },
      "source": [
        "from sympy import integrate\n",
        "\n",
        "# P(x) = 2/x\n",
        "pprint(integrate(-2/x,x)) # int(P(x))"
      ],
      "execution_count": 3,
      "outputs": [
        {
          "output_type": "stream",
          "text": [
            "-2⋅log(x)\n"
          ],
          "name": "stdout"
        }
      ]
    },
    {
      "cell_type": "code",
      "metadata": {
        "id": "C8coXKtdVA7W",
        "colab": {
          "base_uri": "https://localhost:8080/",
          "height": 52
        },
        "outputId": "c06ec342-b32f-4c13-b319-718cc2bff5a9"
      },
      "source": [
        "sym.exp(-2*sym.ln(x)) #M(x)"
      ],
      "execution_count": 4,
      "outputs": [
        {
          "output_type": "execute_result",
          "data": {
            "text/latex": "$\\displaystyle \\frac{1}{x^{2}}$",
            "text/plain": [
              "x**(-2)"
            ]
          },
          "metadata": {
            "tags": []
          },
          "execution_count": 4
        }
      ]
    },
    {
      "cell_type": "markdown",
      "metadata": {
        "id": "mlGzsm7CSf2m"
      },
      "source": [
        "Ahora calculamos la solucion de la siguiente ODE <br>\n",
        "$\\frac{\\operatorname{d} f(x)}{\\operatorname{d}x} + \\tan(x) f(x) = \\cos^2(x)$"
      ]
    },
    {
      "cell_type": "code",
      "metadata": {
        "id": "ywGHsCJeJdjZ",
        "colab": {
          "base_uri": "https://localhost:8080/"
        },
        "outputId": "d8535f31-5a8a-4ec1-b4fb-600d48c2cacb"
      },
      "source": [
        "difeq = Eq(Derivative(f(x), x) + sym.tan(x)*f(x), sym.cos(x)**2)\n",
        "pprint(difeq)"
      ],
      "execution_count": 5,
      "outputs": [
        {
          "output_type": "stream",
          "text": [
            "              d             2   \n",
            "f(x)⋅tan(x) + ──(f(x)) = cos (x)\n",
            "              dx                \n"
          ],
          "name": "stdout"
        }
      ]
    },
    {
      "cell_type": "code",
      "metadata": {
        "id": "MOsZ6-pPFCMC",
        "colab": {
          "base_uri": "https://localhost:8080/"
        },
        "outputId": "c0aeb91b-9b06-441d-f63c-d0b7d9e8205f"
      },
      "source": [
        "pprint(dsolve(difeq))"
      ],
      "execution_count": 6,
      "outputs": [
        {
          "output_type": "stream",
          "text": [
            "f(x) = (C₁ + sin(x))⋅cos(x)\n"
          ],
          "name": "stdout"
        }
      ]
    },
    {
      "cell_type": "markdown",
      "metadata": {
        "id": "KIPQmcWHS_PN"
      },
      "source": [
        "Finalizamos hayando la solución de la siguiente ODE de segundo orden <br>\n",
        "$\\frac{\\operatorname{d}^2 y}{\\operatorname{d}t^2} + 3\\frac{\\operatorname{d} y}{\\operatorname{d}t} + 2y(t) = 2t+5$"
      ]
    },
    {
      "cell_type": "code",
      "metadata": {
        "id": "rM3VoQGDMCpg"
      },
      "source": [
        "from sympy.abc import y, t\n",
        "\n",
        "y = Function(t)\n",
        "\n",
        "dyt = Derivative(y(t), t)\n",
        "d2yt = Derivative(dyt, t)\n",
        "deq = Eq(d2yt+3*dyt+2*y(t), 2*t+5)"
      ],
      "execution_count": 15,
      "outputs": []
    },
    {
      "cell_type": "markdown",
      "metadata": {
        "id": "vA6EmVUHZnfO"
      },
      "source": [
        "Solucion de la ecuacion diferencial de manera general"
      ]
    },
    {
      "cell_type": "code",
      "metadata": {
        "id": "KYKvkT9yNKvb",
        "colab": {
          "base_uri": "https://localhost:8080/",
          "height": 39
        },
        "outputId": "619d609e-7436-40ac-ea5d-ea86da48dc33"
      },
      "source": [
        "dsolve(deq)"
      ],
      "execution_count": 11,
      "outputs": [
        {
          "output_type": "execute_result",
          "data": {
            "text/latex": "$\\displaystyle t{\\left(t \\right)} = C_{1} e^{- 2 t} + C_{2} e^{- t} + t + 1$",
            "text/plain": [
              "Eq(t(t), C1*exp(-2*t) + C2*exp(-t) + t + 1)"
            ]
          },
          "metadata": {
            "tags": []
          },
          "execution_count": 11
        }
      ]
    },
    {
      "cell_type": "markdown",
      "metadata": {
        "id": "MdxT04XnZq_I"
      },
      "source": [
        "Solucion de la ODE considerando condiciones inciales (ICS)"
      ]
    },
    {
      "cell_type": "code",
      "metadata": {
        "id": "t_u3xpDTNN5Q",
        "colab": {
          "base_uri": "https://localhost:8080/"
        },
        "outputId": "ea74acf7-a184-4efb-fefe-8b196093b1e0"
      },
      "source": [
        "soln = dsolve(deq, ics = {y(0):2, y(t).diff(t,1).subs(t, 0): 3})\n",
        "pprint(soln)"
      ],
      "execution_count": 13,
      "outputs": [
        {
          "output_type": "stream",
          "text": [
            "                  -t      -2⋅t\n",
            "t(t) = t + 1 + 4⋅ℯ   - 3⋅ℯ    \n"
          ],
          "name": "stdout"
        }
      ]
    }
  ]
}