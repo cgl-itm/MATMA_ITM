{
 "cells": [
  {
   "cell_type": "markdown",
   "metadata": {},
   "source": [
    "# Ejemplo de Aplicación Gram Schmidt y QR <br>\n",
    "\n",
    "En este ejemplo se encuentra la solución del problema $\\mathbf{A}\\mathbf{x}=\\mathbf{b}$ con <br>\n",
    "$\\mathbf{A} = \\begin{bmatrix} 1 & 0 & 0\\\\ 1 & 1 & 0\\\\ 1 & 1 & 1\\\\ 1 & 1 & 1\\end{bmatrix},\\quad \\mathbf{b} = \\begin{bmatrix} 2\\\\ 1\\\\ 5 \\\\ 4  \\end{bmatrix}$. <br>\n",
    "La solución de minimos cuadrados la podemos encontrar a partir de la descomposicion QR."
   ]
  },
  {
   "cell_type": "markdown",
   "metadata": {},
   "source": [
    "Empezamos importando la libreria de Algebra Lineal"
   ]
  },
  {
   "cell_type": "code",
   "execution_count": 1,
   "metadata": {},
   "outputs": [],
   "source": [
    "using LinearAlgebra"
   ]
  },
  {
   "cell_type": "markdown",
   "metadata": {},
   "source": [
    "## 1. Paso a Paso Gram Schmidt"
   ]
  },
  {
   "cell_type": "markdown",
   "metadata": {},
   "source": [
    "Empezamos definiendo la matriz $\\mathbf{A}$ y el vector $\\mathbf{b}$."
   ]
  },
  {
   "cell_type": "code",
   "execution_count": 2,
   "metadata": {},
   "outputs": [
    {
     "data": {
      "text/plain": [
       "4×3 Array{Float64,2}:\n",
       " 1.0  0.0  0.0\n",
       " 1.0  1.0  0.0\n",
       " 1.0  1.0  1.0\n",
       " 1.0  1.0  1.0"
      ]
     },
     "execution_count": 2,
     "metadata": {},
     "output_type": "execute_result"
    }
   ],
   "source": [
    "b = [2 1 5 4]' #Transponemos el vector fila para que quede columna\n",
    "a1 = ones(4,1) #La primera columna son unos\n",
    "a2 = [0;1;1;1] #La segunda columna la definimos usando ; \n",
    "a3 = [0 0 1 1]' #Al igual que b, volvemos el vector fila a columna\n",
    "A = [a1 a2 a3] #Formamos A haciendo una union de la columnas"
   ]
  },
  {
   "cell_type": "markdown",
   "metadata": {},
   "source": [
    "Para la ortogonalizacion empezamos con la primera columna y la volvemos de norma unitaria"
   ]
  },
  {
   "cell_type": "code",
   "execution_count": 3,
   "metadata": {},
   "outputs": [
    {
     "data": {
      "text/plain": [
       "4×1 Array{Float64,2}:\n",
       " 0.5\n",
       " 0.5\n",
       " 0.5\n",
       " 0.5"
      ]
     },
     "execution_count": 3,
     "metadata": {},
     "output_type": "execute_result"
    }
   ],
   "source": [
    "q1 = a1/norm(a1)"
   ]
  },
  {
   "cell_type": "markdown",
   "metadata": {},
   "source": [
    "Continuamos con la segunda columna, le restamos la proyección con respecto a $q_1$"
   ]
  },
  {
   "cell_type": "code",
   "execution_count": 4,
   "metadata": {},
   "outputs": [
    {
     "data": {
      "text/plain": [
       "4×1 Array{Float64,2}:\n",
       " -0.75\n",
       "  0.25\n",
       "  0.25\n",
       "  0.25"
      ]
     },
     "execution_count": 4,
     "metadata": {},
     "output_type": "execute_result"
    }
   ],
   "source": [
    "q2 = a2-dot(a2,q1)*q1"
   ]
  },
  {
   "cell_type": "markdown",
   "metadata": {},
   "source": [
    "Luego, normalizamos $q_2$"
   ]
  },
  {
   "cell_type": "code",
   "execution_count": 5,
   "metadata": {},
   "outputs": [
    {
     "data": {
      "text/plain": [
       "4×1 Array{Float64,2}:\n",
       " -0.8660254037844387\n",
       "  0.2886751345948129\n",
       "  0.2886751345948129\n",
       "  0.2886751345948129"
      ]
     },
     "execution_count": 5,
     "metadata": {},
     "output_type": "execute_result"
    }
   ],
   "source": [
    "q2=q2/norm(q2)"
   ]
  },
  {
   "cell_type": "markdown",
   "metadata": {},
   "source": [
    "Continuamos con la segunda columna, le restamos la proyección con respecto a $q_1$ y $q_2$."
   ]
  },
  {
   "cell_type": "code",
   "execution_count": 6,
   "metadata": {},
   "outputs": [
    {
     "data": {
      "text/plain": [
       "4×1 Array{Float64,2}:\n",
       "  1.1102230246251565e-16\n",
       " -0.6666666666666667    \n",
       "  0.33333333333333326   \n",
       "  0.33333333333333326   "
      ]
     },
     "execution_count": 6,
     "metadata": {},
     "output_type": "execute_result"
    }
   ],
   "source": [
    "q3 = a3 - dot(a3,q1)*q1 - dot(a3,q2)*q2"
   ]
  },
  {
   "cell_type": "markdown",
   "metadata": {},
   "source": [
    "normalizamos $q_3$"
   ]
  },
  {
   "cell_type": "code",
   "execution_count": 7,
   "metadata": {},
   "outputs": [
    {
     "data": {
      "text/plain": [
       "4×1 Array{Float64,2}:\n",
       "  1.3597399555105182e-16\n",
       " -0.8164965809277261    \n",
       "  0.4082482904638629    \n",
       "  0.4082482904638629    "
      ]
     },
     "execution_count": 7,
     "metadata": {},
     "output_type": "execute_result"
    }
   ],
   "source": [
    "q3 = q3/norm(q3)"
   ]
  },
  {
   "cell_type": "markdown",
   "metadata": {
    "slideshow": {
     "slide_type": "fragment"
    }
   },
   "source": [
    "Construimos la matriz $\\mathbf{Q}$"
   ]
  },
  {
   "cell_type": "code",
   "execution_count": 8,
   "metadata": {},
   "outputs": [
    {
     "data": {
      "text/plain": [
       "4×3 Array{Float64,2}:\n",
       " 0.5  -0.866025   1.35974e-16\n",
       " 0.5   0.288675  -0.816497   \n",
       " 0.5   0.288675   0.408248   \n",
       " 0.5   0.288675   0.408248   "
      ]
     },
     "execution_count": 8,
     "metadata": {},
     "output_type": "execute_result"
    }
   ],
   "source": [
    "Q = [q1 q2 q3]"
   ]
  },
  {
   "cell_type": "markdown",
   "metadata": {},
   "source": [
    "Calculamos la matriz $\\mathbf{R}= \\mathbf{Q}^{\\top}\\mathbf{A}$."
   ]
  },
  {
   "cell_type": "code",
   "execution_count": 9,
   "metadata": {},
   "outputs": [
    {
     "data": {
      "text/plain": [
       "3×3 Array{Float64,2}:\n",
       "  2.0           1.5          1.0     \n",
       "  1.11022e-16   0.866025     0.57735 \n",
       " -2.22045e-16  -3.33067e-16  0.816497"
      ]
     },
     "execution_count": 9,
     "metadata": {},
     "output_type": "execute_result"
    }
   ],
   "source": [
    "R = Q'A"
   ]
  },
  {
   "cell_type": "markdown",
   "metadata": {},
   "source": [
    "Verficiamos que $\\mathbf{A} \\approx \\mathbf{QR}$"
   ]
  },
  {
   "cell_type": "code",
   "execution_count": 10,
   "metadata": {},
   "outputs": [
    {
     "data": {
      "text/plain": [
       "-3.640489776503096e-16"
      ]
     },
     "execution_count": 10,
     "metadata": {},
     "output_type": "execute_result"
    }
   ],
   "source": [
    "sum(Q*R-A)"
   ]
  },
  {
   "cell_type": "markdown",
   "metadata": {},
   "source": [
    "Calculamos la solucion, por medio de $\\mathbf{Rx}=\\mathbf{Q}^{\\top}\\mathbf{b}$."
   ]
  },
  {
   "cell_type": "code",
   "execution_count": 11,
   "metadata": {},
   "outputs": [
    {
     "data": {
      "text/plain": [
       "3×1 Array{Float64,2}:\n",
       "  1.9999999999999998\n",
       " -0.9999999999999997\n",
       "  3.5               "
      ]
     },
     "execution_count": 11,
     "metadata": {},
     "output_type": "execute_result"
    }
   ],
   "source": [
    "bp = Q'*b\n",
    "x = R\\bp"
   ]
  },
  {
   "cell_type": "markdown",
   "metadata": {},
   "source": [
    "## Usando funciones de la libreria de Algebra Lineal"
   ]
  },
  {
   "cell_type": "code",
   "execution_count": 12,
   "metadata": {},
   "outputs": [
    {
     "data": {
      "text/plain": [
       "LinearAlgebra.QRCompactWY{Float64,Array{Float64,2}}\n",
       "Q factor:\n",
       "4×4 LinearAlgebra.QRCompactWYQ{Float64,Array{Float64,2}}:\n",
       " -0.5   0.866025   2.22045e-16   9.19739e-17\n",
       " -0.5  -0.288675   0.816497     -8.03643e-17\n",
       " -0.5  -0.288675  -0.408248     -0.707107   \n",
       " -0.5  -0.288675  -0.408248      0.707107   \n",
       "R factor:\n",
       "3×3 Array{Float64,2}:\n",
       " -2.0  -1.5       -1.0     \n",
       "  0.0  -0.866025  -0.57735 \n",
       "  0.0   0.0       -0.816497"
      ]
     },
     "execution_count": 12,
     "metadata": {},
     "output_type": "execute_result"
    }
   ],
   "source": [
    "Q2,R2 = qr(A) "
   ]
  },
  {
   "cell_type": "markdown",
   "metadata": {},
   "source": [
    "Observamos que $\\mathbf{Q2}$ es de dimensiones 4x4, usamos solamente sus primeras 3 columnas para realizar el calculo de la solcución."
   ]
  },
  {
   "cell_type": "code",
   "execution_count": 13,
   "metadata": {},
   "outputs": [
    {
     "data": {
      "text/plain": [
       "3×1 Array{Float64,2}:\n",
       "  2.000000000000001 \n",
       " -1.0               \n",
       "  3.4999999999999987"
      ]
     },
     "execution_count": 13,
     "metadata": {},
     "output_type": "execute_result"
    }
   ],
   "source": [
    "x2 = R2\\(Q2[:,1:3]'*b)"
   ]
  },
  {
   "cell_type": "code",
   "execution_count": null,
   "metadata": {},
   "outputs": [],
   "source": []
  }
 ],
 "metadata": {
  "kernelspec": {
   "display_name": "Julia 1.0.3",
   "language": "julia",
   "name": "julia-1.0"
  },
  "language_info": {
   "file_extension": ".jl",
   "mimetype": "application/julia",
   "name": "julia",
   "version": "1.0.3"
  }
 },
 "nbformat": 4,
 "nbformat_minor": 2
}
