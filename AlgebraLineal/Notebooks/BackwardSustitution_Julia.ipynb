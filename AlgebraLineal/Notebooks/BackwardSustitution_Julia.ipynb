{
 "cells": [
  {
   "cell_type": "markdown",
   "metadata": {},
   "source": [
    "# Sustitución hacia atrás - Ejemplo"
   ]
  },
  {
   "cell_type": "markdown",
   "metadata": {},
   "source": [
    "Importamos las librerias que usaremos, algebra lineal y la generación de numeros aleatorios."
   ]
  },
  {
   "cell_type": "code",
   "execution_count": 1,
   "metadata": {},
   "outputs": [],
   "source": [
    "using LinearAlgebra\n",
    "using Random"
   ]
  },
  {
   "cell_type": "markdown",
   "metadata": {},
   "source": [
    "Definimos la funcion que realiza el proceso de sustitución hacia atrás."
   ]
  },
  {
   "cell_type": "code",
   "execution_count": 2,
   "metadata": {},
   "outputs": [
    {
     "data": {
      "text/plain": [
       "bs (generic function with 1 method)"
      ]
     },
     "execution_count": 2,
     "metadata": {},
     "output_type": "execute_result"
    }
   ],
   "source": [
    "function bs(U,b)\n",
    "  N = size(b,1) #Numero de filas, se asume b como columna\n",
    "  x = zeros(N,1)\n",
    "  x[N] =  b[N]/U[N,N]\n",
    "  for k = N-1:-1:1\n",
    "    T = b[k]\n",
    "    for l = k+1:N\n",
    "      T += -U[k,l]*x[l]\n",
    "    end\n",
    "    x[k] = T/U[k,k]\n",
    "  end\n",
    "  return x\n",
    "end\n",
    "\n"
   ]
  },
  {
   "cell_type": "markdown",
   "metadata": {},
   "source": [
    "Generamos datos para verificar el funcionamiento de la función."
   ]
  },
  {
   "cell_type": "code",
   "execution_count": 3,
   "metadata": {},
   "outputs": [
    {
     "name": "stdout",
     "output_type": "stream",
     "text": [
      "[1935.21; 74.6447; 44.5387; -33.2566; -4.98395; 9.17132; 8.59031; 6.38827; 2.45557; 0.504453]\n"
     ]
    }
   ],
   "source": [
    "N = 10\n",
    "L = UpperTriangular(randn(N,N))\n",
    "b = randn(N,1)\n",
    "x = bs(L,b) \n",
    "println(x)"
   ]
  },
  {
   "cell_type": "markdown",
   "metadata": {},
   "source": [
    "Comparamos el resultado anterior con respecto al que se obtiene con las libreria."
   ]
  },
  {
   "cell_type": "code",
   "execution_count": 4,
   "metadata": {},
   "outputs": [
    {
     "name": "stdout",
     "output_type": "stream",
     "text": [
      "[1935.21; 74.6447; 44.5387; -33.2566; -4.98395; 9.17132; 8.59031; 6.38827; 2.45557; 0.504453]\n"
     ]
    }
   ],
   "source": [
    "x2 = L\\b\n",
    "println(x2)"
   ]
  },
  {
   "cell_type": "code",
   "execution_count": null,
   "metadata": {},
   "outputs": [],
   "source": []
  }
 ],
 "metadata": {
  "kernelspec": {
   "display_name": "Julia 1.0.3 (4 threads)",
   "language": "julia",
   "name": "julia-1.0k"
  },
  "language_info": {
   "file_extension": ".jl",
   "mimetype": "application/julia",
   "name": "julia",
   "version": "1.0.3"
  }
 },
 "nbformat": 4,
 "nbformat_minor": 2
}
