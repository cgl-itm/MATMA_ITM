{
  "nbformat": 4,
  "nbformat_minor": 0,
  "metadata": {
    "colab": {
      "name": "BackwardSustitution_Python.ipynb",
      "version": "0.3.2",
      "provenance": []
    },
    "kernelspec": {
      "name": "python3",
      "display_name": "Python 3"
    }
  },
  "cells": [
    {
      "cell_type": "markdown",
      "metadata": {
        "id": "WqBQ9eEWch7x",
        "colab_type": "text"
      },
      "source": [
        "# Ejemplo de Sustitución hacia atrás"
      ]
    },
    {
      "cell_type": "markdown",
      "metadata": {
        "id": "ZrhGEJowcp7o",
        "colab_type": "text"
      },
      "source": [
        "Importamos la libreria de calculo numerico y algebra lineal, numpy"
      ]
    },
    {
      "cell_type": "code",
      "metadata": {
        "id": "lueX06Z5cw7-",
        "colab_type": "code",
        "colab": {}
      },
      "source": [
        "import numpy as np"
      ],
      "execution_count": 0,
      "outputs": []
    },
    {
      "cell_type": "markdown",
      "metadata": {
        "id": "bAub9A9Ccz_O",
        "colab_type": "text"
      },
      "source": [
        "Definimos la funcion que realiza el proceso de backsustitution bs(U,b), donde U es la matriz triangular superior y b es un vector columna."
      ]
    },
    {
      "cell_type": "code",
      "metadata": {
        "id": "HszRQ9_HM1BS",
        "colab_type": "code",
        "colab": {}
      },
      "source": [
        "def bs(U,b):\n",
        "  N = b.size\n",
        "  x = np.zeros((N,1))\n",
        "  x[N-1] = b[N-1]/U[N-1,N-1]\n",
        "  for k in reversed(range(N-1)):\n",
        "    T = b[k].copy() #Evitar pasar la referencia\n",
        "    for l in range(k+1,N):\n",
        "      T += -U[k,l]*x[l]\n",
        "    x[k] = T/U[k,k]\n",
        "  return x"
      ],
      "execution_count": 0,
      "outputs": []
    },
    {
      "cell_type": "markdown",
      "metadata": {
        "id": "zph2rCEVdJT2",
        "colab_type": "text"
      },
      "source": [
        "Generamos datos aleatorios para verificar el funcionamiento de la funcion bs."
      ]
    },
    {
      "cell_type": "code",
      "metadata": {
        "id": "yVEE0xdodEIn",
        "colab_type": "code",
        "outputId": "f0ce4772-3569-4a57-f06d-1d1ea6e05dee",
        "colab": {
          "base_uri": "https://localhost:8080/",
          "height": 87
        }
      },
      "source": [
        "N = 4\n",
        "U = np.triu(np.random.randn(N,N))\n",
        "b = np.random.randn(N,1)\n",
        "\n",
        "x = bs(U,b) \n",
        "print(x)"
      ],
      "execution_count": 0,
      "outputs": [
        {
          "output_type": "stream",
          "text": [
            "[[ 8.28664173]\n",
            " [11.8281674 ]\n",
            " [ 5.79012522]\n",
            " [-1.30285788]]\n"
          ],
          "name": "stdout"
        }
      ]
    },
    {
      "cell_type": "markdown",
      "metadata": {
        "id": "OGPuCYaZdPCo",
        "colab_type": "text"
      },
      "source": [
        "Comparamos el resultado usando la funcion de de numpy, solve."
      ]
    },
    {
      "cell_type": "code",
      "metadata": {
        "id": "l7x8TLglM8Hb",
        "colab_type": "code",
        "outputId": "fde9e12c-b5b4-4e81-c87d-e54639eff0da",
        "colab": {
          "base_uri": "https://localhost:8080/",
          "height": 87
        }
      },
      "source": [
        "x2 = np.linalg.solve(U,b)\n",
        "print(x2)"
      ],
      "execution_count": 0,
      "outputs": [
        {
          "output_type": "stream",
          "text": [
            "[[ 8.28664173]\n",
            " [11.8281674 ]\n",
            " [ 5.79012522]\n",
            " [-1.30285788]]\n"
          ],
          "name": "stdout"
        }
      ]
    }
  ]
}