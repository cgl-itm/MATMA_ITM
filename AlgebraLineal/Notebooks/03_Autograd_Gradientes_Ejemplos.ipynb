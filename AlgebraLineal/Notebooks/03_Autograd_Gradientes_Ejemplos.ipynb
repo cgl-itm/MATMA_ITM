{
  "nbformat": 4,
  "nbformat_minor": 0,
  "metadata": {
    "colab": {
      "name": "Autograd_Gradientes_Ejemplos.ipynb",
      "provenance": [],
      "collapsed_sections": []
    },
    "kernelspec": {
      "name": "python3",
      "display_name": "Python 3"
    }
  },
  "cells": [
    {
      "cell_type": "code",
      "metadata": {
        "id": "sKBgrsTAjPi0",
        "colab_type": "code",
        "colab": {}
      },
      "source": [
        "import autograd.numpy as np\n",
        "import autograd as ag"
      ],
      "execution_count": 0,
      "outputs": []
    },
    {
      "cell_type": "markdown",
      "metadata": {
        "id": "d2Kl76HYs0nw",
        "colab_type": "text"
      },
      "source": [
        "## Jacobiano de una funcion escalar"
      ]
    },
    {
      "cell_type": "code",
      "metadata": {
        "id": "mHRABxcQsV0L",
        "colab_type": "code",
        "colab": {
          "base_uri": "https://localhost:8080/",
          "height": 34
        },
        "outputId": "79c89f8b-5d15-4352-b687-66200f0c2b07"
      },
      "source": [
        "def f(x, y):\n",
        "    return x**(.8) * y**(.2)\n",
        "\n",
        "dfdx = grad(f)\n",
        "dfdy = grad(f, 1)\n",
        "\n",
        "x, y = 2.0, 3.0\n",
        "\n",
        "derivs = np.array([dfdx(x,y), dfdy(x,y)])\n",
        "print(\"Gradente: \", derivs)"
      ],
      "execution_count": 25,
      "outputs": [
        {
          "output_type": "stream",
          "text": [
            "Gradente:  [0.86757742 0.14459624]\n"
          ],
          "name": "stdout"
        }
      ]
    },
    {
      "cell_type": "markdown",
      "metadata": {
        "id": "IhncsnkhsxCY",
        "colab_type": "text"
      },
      "source": [
        "# Gradiente del producto matriz vector"
      ]
    },
    {
      "cell_type": "code",
      "metadata": {
        "id": "lvilAT6-jSeC",
        "colab_type": "code",
        "colab": {}
      },
      "source": [
        "def mv(x):\n",
        "    A = np.arange(9, dtype=np.float).reshape(3,3)\n",
        "    return np.dot(A, x)"
      ],
      "execution_count": 0,
      "outputs": []
    },
    {
      "cell_type": "code",
      "metadata": {
        "id": "91L3veF-oDkt",
        "colab_type": "code",
        "colab": {
          "base_uri": "https://localhost:8080/",
          "height": 85
        },
        "outputId": "f1528c8b-2153-41df-da92-b2f453890a92"
      },
      "source": [
        "jac = ag.jacobian(mv)\n",
        "x = np.arange(3, dtype=np.float)\n",
        "print(f(x))\n",
        "print(jac(x))"
      ],
      "execution_count": 24,
      "outputs": [
        {
          "output_type": "stream",
          "text": [
            "[ 5. 14. 23.]\n",
            "[[0. 1. 2.]\n",
            " [3. 4. 5.]\n",
            " [6. 7. 8.]]\n"
          ],
          "name": "stdout"
        }
      ]
    },
    {
      "cell_type": "code",
      "metadata": {
        "id": "jwcOEbEdp1AO",
        "colab_type": "code",
        "colab": {}
      },
      "source": [
        ""
      ],
      "execution_count": 0,
      "outputs": []
    }
  ]
}