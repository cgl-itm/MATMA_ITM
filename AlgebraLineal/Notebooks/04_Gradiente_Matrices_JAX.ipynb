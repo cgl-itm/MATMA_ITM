{
  "nbformat": 4,
  "nbformat_minor": 0,
  "metadata": {
    "colab": {
      "provenance": [],
      "collapsed_sections": []
    },
    "kernelspec": {
      "name": "python3",
      "display_name": "Python 3"
    },
    "language_info": {
      "name": "python"
    }
  },
  "cells": [
    {
      "cell_type": "markdown",
      "metadata": {
        "id": "V19x03AJQoBh"
      },
      "source": [
        "# Gradientes de Vectores y Matrices"
      ]
    },
    {
      "cell_type": "markdown",
      "metadata": {
        "id": "pIdxeaSMbHrf"
      },
      "source": [
        "En este Notebook exploramos como realizar los gradientes de funciones usando JAX o de manera simbolica usando SymPy."
      ]
    },
    {
      "cell_type": "markdown",
      "metadata": {
        "id": "0hNDqH1VqTdy"
      },
      "source": [
        "# JAX"
      ]
    },
    {
      "cell_type": "markdown",
      "metadata": {
        "id": "KRcj1twAq6TD"
      },
      "source": [
        "JAX es una libreria de Google para realizar diferenciación atomática de funciones en Python. \n",
        "https://jax.readthedocs.io/en/latest/notebooks/autodiff_cookbook.html"
      ]
    },
    {
      "cell_type": "code",
      "metadata": {
        "id": "ncPBSKhfVqxA"
      },
      "source": [
        "import matplotlib.pyplot as plt\n",
        "import jax.numpy as np\n",
        "from jax import grad #Solo funciona con funciones con salida escalar\n",
        "from jax import jacfwd, jacrev\n",
        "from jax.numpy import linalg"
      ],
      "execution_count": null,
      "outputs": []
    },
    {
      "cell_type": "markdown",
      "metadata": {
        "id": "wCY6ubcheis8"
      },
      "source": [
        "$$\n",
        "f(x ; y)=\\left[\\begin{array}{l}\n",
        "f_{1}(x, y) \\\\\n",
        "f_{2}(x, y)\n",
        "\\end{array}\\right]=\\left[\\begin{array}{c}\n",
        "x^{3} y^{2} \\\\\n",
        "2 x y+\\cos (x)\n",
        "\\end{array}\\right]\n",
        "$$"
      ]
    },
    {
      "cell_type": "code",
      "metadata": {
        "id": "tBB388HTrI1N"
      },
      "source": [
        "def f1(x):\n",
        "  return np.array([x[0]**3*x[1]**2, 2*x[0]*x[1]+np.cos(x[0])])"
      ],
      "execution_count": null,
      "outputs": []
    },
    {
      "cell_type": "code",
      "metadata": {
        "colab": {
          "base_uri": "https://localhost:8080/"
        },
        "id": "aSGYNPpw6gkD",
        "outputId": "c7d47769-6164-483f-a687-2d434e2e8a4e"
      },
      "source": [
        "f1(np.array([0.1,2.0]))"
      ],
      "execution_count": null,
      "outputs": [
        {
          "output_type": "stream",
          "name": "stderr",
          "text": [
            "WARNING:absl:No GPU/TPU found, falling back to CPU. (Set TF_CPP_MIN_LOG_LEVEL=0 and rerun for more info.)\n"
          ]
        },
        {
          "output_type": "execute_result",
          "data": {
            "text/plain": [
              "DeviceArray([0.004    , 1.3950042], dtype=float32)"
            ]
          },
          "metadata": {},
          "execution_count": 3
        }
      ]
    },
    {
      "cell_type": "code",
      "metadata": {
        "colab": {
          "base_uri": "https://localhost:8080/"
        },
        "id": "M4qzIMRz606a",
        "outputId": "b35476c5-14e5-4cfe-9d68-fdfc2f6ddd4b"
      },
      "source": [
        "gf1 = jacfwd(f1)\n",
        "gf1(np.array([0.1,2.0]))"
      ],
      "execution_count": null,
      "outputs": [
        {
          "output_type": "execute_result",
          "data": {
            "text/plain": [
              "DeviceArray([[0.12     , 0.004    ],\n",
              "             [3.9001665, 0.2      ]], dtype=float32)"
            ]
          },
          "metadata": {},
          "execution_count": 4
        }
      ]
    },
    {
      "cell_type": "markdown",
      "metadata": {
        "id": "fDfl0ZQYfoaz"
      },
      "source": [
        "$$\n",
        "\\mathbf{y}=\\mathbf{A} \\mathbf{x}(\\mathbf{z})\n",
        "$$\n",
        "\n",
        "$$\n",
        "\\frac{\\partial \\mathbf{y}}{\\partial \\mathbf{z}} = \\mathbf {A} \\frac{\\partial \\mathbf{x}}{\\partial \\mathbf{z}}\n",
        "$$"
      ]
    },
    {
      "cell_type": "code",
      "metadata": {
        "id": "BIwEmdPt87Co"
      },
      "source": [
        "A = np.arange(9, dtype=np.float32).reshape(3,3)\n",
        "def mv(z):\n",
        "    x = np.array([z[0]**2+z[1],z[2],z[2]+z[0]])\n",
        "    return A@x\n",
        "\n",
        "def xz(z):\n",
        "    return np.array([z[0]**2+z[1],z[2],z[2]+z[0]])"
      ],
      "execution_count": null,
      "outputs": []
    },
    {
      "cell_type": "code",
      "metadata": {
        "colab": {
          "base_uri": "https://localhost:8080/"
        },
        "id": "Rvvb86Kn_jsd",
        "outputId": "31a6c079-925e-49e8-8c3b-2b6178d9d3d5"
      },
      "source": [
        "z = np.arange(3, dtype=np.float32)\n",
        "gmxz = jacfwd(mv)\n",
        "print(gmxz(z))"
      ],
      "execution_count": null,
      "outputs": [
        {
          "output_type": "stream",
          "name": "stdout",
          "text": [
            "[[ 2.  0.  3.]\n",
            " [ 5.  3.  9.]\n",
            " [ 8.  6. 15.]]\n"
          ]
        }
      ]
    },
    {
      "cell_type": "code",
      "metadata": {
        "colab": {
          "base_uri": "https://localhost:8080/"
        },
        "id": "Icoq_zcJ9Gqe",
        "outputId": "d4f23cec-e16a-42fe-c14a-6bd191596718"
      },
      "source": [
        "gmv = jacfwd(mv)\n",
        "print(gmv(z))"
      ],
      "execution_count": null,
      "outputs": [
        {
          "output_type": "stream",
          "name": "stdout",
          "text": [
            "[[ 2.  0.  3.]\n",
            " [ 5.  3.  9.]\n",
            " [ 8.  6. 15.]]\n"
          ]
        }
      ]
    },
    {
      "cell_type": "code",
      "metadata": {
        "colab": {
          "base_uri": "https://localhost:8080/"
        },
        "id": "aDXig0np_0BF",
        "outputId": "3506b172-ca49-44bc-9eba-44a0284b7c98"
      },
      "source": [
        "gxz = jacfwd(xz)\n",
        "A@gxz(z)"
      ],
      "execution_count": null,
      "outputs": [
        {
          "output_type": "execute_result",
          "data": {
            "text/plain": [
              "DeviceArray([[ 2.,  0.,  3.],\n",
              "             [ 5.,  3.,  9.],\n",
              "             [ 8.,  6., 15.]], dtype=float32)"
            ]
          },
          "metadata": {},
          "execution_count": 8
        }
      ]
    },
    {
      "cell_type": "markdown",
      "metadata": {
        "id": "OaLqvDhixtB0"
      },
      "source": [
        "$$\n",
        "\\alpha=\\mathbf{y}^{\\top} \\mathbf{A} \\mathbf{x}\n",
        "$$\n",
        "$$\n",
        "\\begin{aligned}\n",
        "&\\frac{\\partial \\alpha}{\\partial \\mathbf{x}}=\\mathbf{y}^{\\top} \\mathbf{A} \\\\\n",
        "&\\frac{\\partial \\alpha}{\\partial \\mathbf{y}} = \\mathbf{A x}\n",
        "\\end{aligned}\n",
        "$$"
      ]
    },
    {
      "cell_type": "code",
      "metadata": {
        "colab": {
          "base_uri": "https://localhost:8080/"
        },
        "id": "-3zbk2TJAphl",
        "outputId": "7439ac9b-6171-4971-caa1-6dff6630369a"
      },
      "source": [
        "def mv(x,y):\n",
        "    return np.dot(y,np.matmul(A,x))\n",
        "\n",
        "x = np.arange(3, dtype=np.float32)\n",
        "y = np.arange(3, dtype=np.float32)\n",
        "\n",
        "# Gradiente con respecto a x\n",
        "print(y@A,grad(mv,0)(x,y))\n",
        "\n",
        "# Gradiente con respecto a y\n",
        "print(A@x,grad(mv,1)(x,y))"
      ],
      "execution_count": null,
      "outputs": [
        {
          "output_type": "stream",
          "name": "stdout",
          "text": [
            "[15. 18. 21.] [15. 18. 21.]\n",
            "[ 5. 14. 23.] [ 5. 14. 23.]\n"
          ]
        }
      ]
    },
    {
      "cell_type": "markdown",
      "metadata": {
        "id": "Y6znaJ8R2Y1_"
      },
      "source": [
        "$$\n",
        "\\alpha=\\mathbf{x}^{\\top} \\mathbf{A} \\mathbf{x}\n",
        "$$\n",
        "$$\n",
        "\\frac{\\partial \\alpha}{\\partial \\mathbf{x}}=\\mathbf{x}^{\\top}\\left(\\mathbf{A}+\\mathbf{A}^{\\top}\\right)\n",
        "$$"
      ]
    },
    {
      "cell_type": "code",
      "metadata": {
        "colab": {
          "base_uri": "https://localhost:8080/"
        },
        "id": "Hi2RHlpwCnU0",
        "outputId": "cc3319d0-47a1-4553-853f-2ef6fa1fea64"
      },
      "source": [
        "# quad es una funcion escalar, podemos usar grad\n",
        "def quad(x):\n",
        "    return np.dot(x,np.matmul(A,x))\n",
        "\n",
        "print(x@(A+A.T),grad(quad)(x))"
      ],
      "execution_count": null,
      "outputs": [
        {
          "output_type": "stream",
          "name": "stdout",
          "text": [
            "[20. 32. 44.] [20. 32. 44.]\n"
          ]
        }
      ]
    },
    {
      "cell_type": "markdown",
      "metadata": {
        "id": "-Ck-Kp7z3K2Y"
      },
      "source": [
        "$$\n",
        "\\alpha=\\mathbf{x}^{\\top} \\mathbf{A} \\mathbf{x}\n",
        "$$\n",
        "\n",
        "$$\n",
        "\\frac{\\partial \\alpha}{\\partial \\mathbf{x}}=2 \\mathbf{x}^{\\top} \\mathbf{A}\n",
        "$$"
      ]
    },
    {
      "cell_type": "code",
      "metadata": {
        "colab": {
          "base_uri": "https://localhost:8080/"
        },
        "id": "rI5Zvvk5Dxuk",
        "outputId": "3a799cbc-81dd-49f5-e557-b5638b899d67"
      },
      "source": [
        "# B representa la matriz simétrica\n",
        "B = A+A.T\n",
        "def msime(x):\n",
        "    return np.dot(x,np.matmul(B,x))\n",
        "\n",
        "print(2.0*x@B,grad(msime)(x))"
      ],
      "execution_count": null,
      "outputs": [
        {
          "output_type": "stream",
          "name": "stdout",
          "text": [
            "[40. 64. 88.] [40. 64. 88.]\n"
          ]
        }
      ]
    },
    {
      "cell_type": "markdown",
      "metadata": {
        "id": "EEAfVjkTNikK"
      },
      "source": [
        "## Gradiente de la Inversa"
      ]
    },
    {
      "cell_type": "markdown",
      "metadata": {
        "id": "FLRIyj-s-jta"
      },
      "source": [
        "$$\n",
        "\\frac{\\partial \\mathbf{A}^{-1}}{\\partial \\alpha}=-\\mathbf{A}^{-1} \\frac{\\partial \\mathbf{A}}{\\partial \\alpha} \\mathbf{A}^{-1}\n",
        "$$"
      ]
    },
    {
      "cell_type": "code",
      "metadata": {
        "colab": {
          "base_uri": "https://localhost:8080/"
        },
        "id": "ywJlYlBWEvOC",
        "outputId": "f8f89e45-36af-47a1-82cc-a1ccbf934994"
      },
      "source": [
        "# Creamos una funcion \"A\" que crea una matriz que depende de un parametro \"a\"\n",
        "def A(a):\n",
        "    return np.array([[a,0.,0.],[0.,2.0*a,0.0],[0.,0.,np.sqrt(a)]])\n",
        "\n",
        "# La inversa de A, ya que es diagonal es facil\n",
        "def invA(a):\n",
        "    return np.array([[1./a,0.,0.],[0.,1./(2.0*a),0.0],[0.,0.,1.0/np.sqrt(a)]])\n",
        "\n",
        "a = 2.0\n",
        "print(-linalg.solve(A(a),linalg.solve(A(a).T,jacfwd(A)(a)).T),'\\n \\n',jacfwd(invA)(a),\n",
        "      '\\n \\n', -invA(a)@jacfwd(A)(a)@invA(a))"
      ],
      "execution_count": null,
      "outputs": [
        {
          "output_type": "stream",
          "name": "stdout",
          "text": [
            "[[-0.25       -0.         -0.        ]\n",
            " [-0.         -0.125      -0.        ]\n",
            " [-0.         -0.         -0.17677668]] \n",
            " \n",
            " [[-0.25       0.         0.       ]\n",
            " [ 0.        -0.125      0.       ]\n",
            " [ 0.         0.        -0.1767767]] \n",
            " \n",
            " [[-0.25       -0.         -0.        ]\n",
            " [-0.         -0.125      -0.        ]\n",
            " [-0.         -0.         -0.17677668]]\n"
          ]
        }
      ]
    },
    {
      "cell_type": "markdown",
      "metadata": {
        "id": "-jHv291jNS4c"
      },
      "source": [
        "## Hessian using JAX"
      ]
    },
    {
      "cell_type": "code",
      "metadata": {
        "colab": {
          "base_uri": "https://localhost:8080/"
        },
        "id": "3OnVhF7RqVKQ",
        "outputId": "99f6c06e-d126-4b4e-cf67-dc7242e4f898"
      },
      "source": [
        "def f(x) : return x[0]**2 - x[1]**2\n",
        "gradf = grad(f)\n",
        "gradf(np.array([2.0, -1.0]))"
      ],
      "execution_count": null,
      "outputs": [
        {
          "output_type": "execute_result",
          "data": {
            "text/plain": [
              "DeviceArray([4., 2.], dtype=float32)"
            ]
          },
          "metadata": {},
          "execution_count": 15
        }
      ]
    },
    {
      "cell_type": "code",
      "metadata": {
        "colab": {
          "base_uri": "https://localhost:8080/"
        },
        "id": "r2Rat5ORqYTf",
        "outputId": "683ee4fc-1a96-4347-b87b-83e410e8bca7"
      },
      "source": [
        "gradf(np.array([0.0, 0.0]))"
      ],
      "execution_count": null,
      "outputs": [
        {
          "output_type": "execute_result",
          "data": {
            "text/plain": [
              "DeviceArray([0., 0.], dtype=float32)"
            ]
          },
          "metadata": {},
          "execution_count": 16
        }
      ]
    },
    {
      "cell_type": "code",
      "metadata": {
        "id": "anXArIJuquiW",
        "colab": {
          "base_uri": "https://localhost:8080/"
        },
        "outputId": "488af3cf-86df-4877-87ec-49f990d3e823"
      },
      "source": [
        "Hf = jacfwd(jacrev(f))\n",
        "Hf(np.array([0.0, 0.0]))"
      ],
      "execution_count": null,
      "outputs": [
        {
          "output_type": "execute_result",
          "data": {
            "text/plain": [
              "DeviceArray([[ 2.,  0.],\n",
              "             [ 0., -2.]], dtype=float32)"
            ]
          },
          "metadata": {},
          "execution_count": 17
        }
      ]
    },
    {
      "cell_type": "markdown",
      "metadata": {
        "id": "iUzCLciIQuiA"
      },
      "source": [
        "# Using SymPy"
      ]
    },
    {
      "cell_type": "code",
      "metadata": {
        "colab": {
          "base_uri": "https://localhost:8080/",
          "height": 78
        },
        "id": "swZ1LcTEQwlH",
        "outputId": "9c4d4124-cc96-4698-85be-62d27af09d7b"
      },
      "source": [
        "from sympy import sin, cos, Matrix\n",
        "from sympy.abc import rho, phi\n",
        "X = Matrix([rho*cos(phi), rho*sin(phi), rho**2])\n",
        "Y = Matrix([rho, phi])\n",
        "X.jacobian(Y)"
      ],
      "execution_count": null,
      "outputs": [
        {
          "output_type": "execute_result",
          "data": {
            "text/latex": "$\\displaystyle \\left[\\begin{matrix}\\cos{\\left(\\phi \\right)} & - \\rho \\sin{\\left(\\phi \\right)}\\\\\\sin{\\left(\\phi \\right)} & \\rho \\cos{\\left(\\phi \\right)}\\\\2 \\rho & 0\\end{matrix}\\right]$",
            "text/plain": [
              "Matrix([\n",
              "[cos(phi), -rho*sin(phi)],\n",
              "[sin(phi),  rho*cos(phi)],\n",
              "[   2*rho,             0]])"
            ]
          },
          "metadata": {},
          "execution_count": 18
        }
      ]
    },
    {
      "cell_type": "code",
      "metadata": {
        "colab": {
          "base_uri": "https://localhost:8080/",
          "height": 57
        },
        "id": "9HNtI83wQwCy",
        "outputId": "49612f6f-9022-453e-edde-affb87cf9b48"
      },
      "source": [
        "X = Matrix([rho*cos(phi), rho*sin(phi)])\n",
        "X.jacobian(Y)"
      ],
      "execution_count": null,
      "outputs": [
        {
          "output_type": "execute_result",
          "data": {
            "text/latex": "$\\displaystyle \\left[\\begin{matrix}\\cos{\\left(\\phi \\right)} & - \\rho \\sin{\\left(\\phi \\right)}\\\\\\sin{\\left(\\phi \\right)} & \\rho \\cos{\\left(\\phi \\right)}\\end{matrix}\\right]$",
            "text/plain": [
              "Matrix([\n",
              "[cos(phi), -rho*sin(phi)],\n",
              "[sin(phi),  rho*cos(phi)]])"
            ]
          },
          "metadata": {},
          "execution_count": 19
        }
      ]
    },
    {
      "cell_type": "markdown",
      "metadata": {
        "id": "Ui2mwWGCWbRN"
      },
      "source": [
        "$$\n",
        "f(x ; y)=\\left[\\begin{array}{l}\n",
        "f_{1}(x, y) \\\\\n",
        "f_{2}(x, y)\n",
        "\\end{array}\\right]=\\left[\\begin{array}{c}\n",
        "x^{3} y^{2} \\\\\n",
        "2 x y+\\cos (x)\n",
        "\\end{array}\\right]\n",
        "$$"
      ]
    },
    {
      "cell_type": "code",
      "metadata": {
        "id": "Ekbj-aCuROCh",
        "colab": {
          "base_uri": "https://localhost:8080/"
        },
        "outputId": "5c5ee102-9ea1-4c5e-f3b4-a65cd5e8ea60"
      },
      "source": [
        "from sympy.abc import x, y\n",
        "f = Matrix([x**3*y**2, 2*x*y+cos(x)])\n",
        "print(f)"
      ],
      "execution_count": null,
      "outputs": [
        {
          "output_type": "stream",
          "name": "stdout",
          "text": [
            "Matrix([[x**3*y**2], [2*x*y + cos(x)]])\n"
          ]
        }
      ]
    },
    {
      "cell_type": "code",
      "metadata": {
        "colab": {
          "base_uri": "https://localhost:8080/",
          "height": 57
        },
        "id": "xrjSOChEz7CG",
        "outputId": "ab840df5-19a5-49e1-ae7c-6d39c5ba3aed"
      },
      "source": [
        "vector = Matrix([x, y])\n",
        "f.jacobian(vector)"
      ],
      "execution_count": null,
      "outputs": [
        {
          "output_type": "execute_result",
          "data": {
            "text/latex": "$\\displaystyle \\left[\\begin{matrix}3 x^{2} y^{2} & 2 x^{3} y\\\\2 y - \\sin{\\left(x \\right)} & 2 x\\end{matrix}\\right]$",
            "text/plain": [
              "Matrix([\n",
              "[ 3*x**2*y**2, 2*x**3*y],\n",
              "[2*y - sin(x),      2*x]])"
            ]
          },
          "metadata": {},
          "execution_count": 21
        }
      ]
    },
    {
      "cell_type": "code",
      "metadata": {
        "colab": {
          "base_uri": "https://localhost:8080/"
        },
        "id": "lj64Z5Jj0KyP",
        "outputId": "ad4cc702-d088-492f-c709-82f004a9e2e1"
      },
      "source": [
        "from sympy.abc import theta, r\n",
        "from sympy import simplify\n",
        "f2 = Matrix([r*cos(theta), r*sin(theta)])\n",
        "vector2 = Matrix([r, theta])\n",
        "jac2 = f2.jacobian(vector2)\n",
        "print(simplify(jac2.det()))"
      ],
      "execution_count": null,
      "outputs": [
        {
          "output_type": "stream",
          "name": "stdout",
          "text": [
            "r\n"
          ]
        }
      ]
    },
    {
      "cell_type": "markdown",
      "metadata": {
        "id": "rUuYuO9HQwPi"
      },
      "source": [
        "## Hessiana: Ejemplo"
      ]
    },
    {
      "cell_type": "code",
      "metadata": {
        "colab": {
          "base_uri": "https://localhost:8080/",
          "height": 466
        },
        "id": "tFSf3fqElRa-",
        "outputId": "f17fdb0a-7a9f-40c9-9ed1-6fb6db97e871"
      },
      "source": [
        "x, y = np.meshgrid(np.linspace(-1.0, 1.0, 101), np.linspace(-1.0, 1.0, 101))\n",
        "z = x**2 - y**2\n",
        "\n",
        "ax = plt.figure(figsize=(10,8)).add_subplot(111, projection='3d')\n",
        "ax.plot_wireframe(x, y, z, **{'rstride': 10, 'cstride': 10})\n",
        "ax.plot([0], [0], [0], 'ro', markersize = 10)\n",
        "ticks = [-1, 0, 1]\n",
        "plt.xticks(ticks)\n",
        "plt.yticks(ticks)\n",
        "ax.set_zticks(ticks)\n",
        "plt.xlabel('x')\n",
        "plt.ylabel('y');"
      ],
      "execution_count": null,
      "outputs": [
        {
          "output_type": "display_data",
          "data": {
            "image/png": "[encoded data removed]",
            "text/plain": [
              "<Figure size 720x576 with 1 Axes>"
            ]
          },
          "metadata": {
            "needs_background": "light"
          }
        }
      ]
    },
    {
      "cell_type": "code",
      "metadata": {
        "id": "RrjtttCHoCI2"
      },
      "source": [
        "gz = np.array([2.0*x, - 2.0*y])\n",
        "Hz = np.array([[2.0, 0.0],[0.0,-2.0]])"
      ],
      "execution_count": null,
      "outputs": []
    },
    {
      "cell_type": "code",
      "metadata": {
        "colab": {
          "base_uri": "https://localhost:8080/"
        },
        "id": "qHA_SdO7oUnp",
        "outputId": "a61a7a8e-826c-4f07-be7c-4faa6f1b7496"
      },
      "source": [
        "np.linalg.eigvals(Hz)"
      ],
      "execution_count": null,
      "outputs": [
        {
          "output_type": "execute_result",
          "data": {
            "text/plain": [
              "DeviceArray([ 2.+0.j, -2.+0.j], dtype=complex64)"
            ]
          },
          "metadata": {},
          "execution_count": 25
        }
      ]
    }
  ]
}