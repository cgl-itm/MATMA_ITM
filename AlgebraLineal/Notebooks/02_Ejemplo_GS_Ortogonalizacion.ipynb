{
  "nbformat": 4,
  "nbformat_minor": 0,
  "metadata": {
    "colab": {
      "name": "Ejemplo_GS_Ortogonalizacion.ipynb",
      "provenance": []
    },
    "kernelspec": {
      "name": "python3",
      "display_name": "Python 3"
    }
  },
  "cells": [
    {
      "cell_type": "markdown",
      "metadata": {
        "id": "SqSvQXMySIVq",
        "colab_type": "text"
      },
      "source": [
        "# Ejemplo Ortogonalización de Gram-Schmitd usando Numpy"
      ]
    },
    {
      "cell_type": "code",
      "metadata": {
        "id": "22RapEPvBYXK",
        "colab_type": "code",
        "colab": {}
      },
      "source": [
        "import numpy as np"
      ],
      "execution_count": 0,
      "outputs": []
    },
    {
      "cell_type": "code",
      "metadata": {
        "id": "-WawtdDZBiXR",
        "colab_type": "code",
        "outputId": "20092d22-4dff-460f-a69d-5112fb2fd5e1",
        "colab": {
          "base_uri": "https://localhost:8080/",
          "height": 85
        }
      },
      "source": [
        "A = np.array([[1,0,0],[1,1,0],[1,1,1],[1,1,1]])\n",
        "print(A)"
      ],
      "execution_count": 0,
      "outputs": [
        {
          "output_type": "stream",
          "text": [
            "[[1 0 0]\n",
            " [1 1 0]\n",
            " [1 1 1]\n",
            " [1 1 1]]\n"
          ],
          "name": "stdout"
        }
      ]
    },
    {
      "cell_type": "code",
      "metadata": {
        "id": "sY9h_FKCCCCx",
        "colab_type": "code",
        "outputId": "4dac8e94-010a-4d20-f0ae-aaa6feff174b",
        "colab": {
          "base_uri": "https://localhost:8080/",
          "height": 34
        }
      },
      "source": [
        "q1 = A[:,0]\n",
        "q1 = q1/np.linalg.norm(q1)\n",
        "print(q1)"
      ],
      "execution_count": 0,
      "outputs": [
        {
          "output_type": "stream",
          "text": [
            "[0.5 0.5 0.5 0.5]\n"
          ],
          "name": "stdout"
        }
      ]
    },
    {
      "cell_type": "code",
      "metadata": {
        "id": "YIEEFMxtCy5M",
        "colab_type": "code",
        "outputId": "b62efb37-0f39-4d4c-c39f-ad32e174b1d5",
        "colab": {
          "base_uri": "https://localhost:8080/",
          "height": 34
        }
      },
      "source": [
        "a2 = A[:,1]\n",
        "q2 = a2 - np.dot(q1,a2)*q1\n",
        "print(q2)"
      ],
      "execution_count": 0,
      "outputs": [
        {
          "output_type": "stream",
          "text": [
            "[-0.75  0.25  0.25  0.25]\n"
          ],
          "name": "stdout"
        }
      ]
    },
    {
      "cell_type": "code",
      "metadata": {
        "id": "fL3iVzHLDbYb",
        "colab_type": "code",
        "outputId": "04d91346-0188-443c-d9da-af07e0a74b5e",
        "colab": {
          "base_uri": "https://localhost:8080/",
          "height": 34
        }
      },
      "source": [
        "q2 = q2/np.linalg.norm(q2)\n",
        "print(q2)"
      ],
      "execution_count": 0,
      "outputs": [
        {
          "output_type": "stream",
          "text": [
            "[-0.8660254   0.28867513  0.28867513  0.28867513]\n"
          ],
          "name": "stdout"
        }
      ]
    },
    {
      "cell_type": "code",
      "metadata": {
        "id": "Zj8ClajnDhjR",
        "colab_type": "code",
        "outputId": "9ca3466e-2fae-49b1-8fe4-ddddb922e92a",
        "colab": {
          "base_uri": "https://localhost:8080/",
          "height": 34
        }
      },
      "source": [
        "a3 = A[:,2]\n",
        "q3 = a3 - np.dot(q1,a3)*q1 - np.dot(q2,a3)*q2\n",
        "print(q3)"
      ],
      "execution_count": 0,
      "outputs": [
        {
          "output_type": "stream",
          "text": [
            "[ 1.11022302e-16 -6.66666667e-01  3.33333333e-01  3.33333333e-01]\n"
          ],
          "name": "stdout"
        }
      ]
    },
    {
      "cell_type": "code",
      "metadata": {
        "id": "cs-gbPThELqT",
        "colab_type": "code",
        "outputId": "75f57210-e0cc-416e-e7c3-3c2875c69721",
        "colab": {
          "base_uri": "https://localhost:8080/",
          "height": 68
        }
      },
      "source": [
        "print(np.dot(q1,q2))\n",
        "print(np.dot(q1,q3))\n",
        "print(np.dot(q2,q3))"
      ],
      "execution_count": 0,
      "outputs": [
        {
          "output_type": "stream",
          "text": [
            "5.551115123125783e-17\n",
            "-5.551115123125783e-17\n",
            "-1.3877787807814457e-16\n"
          ],
          "name": "stdout"
        }
      ]
    },
    {
      "cell_type": "code",
      "metadata": {
        "id": "zyEjiABiEWra",
        "colab_type": "code",
        "outputId": "de5fb2d4-5ffb-42fd-f7d1-4718747526f8",
        "colab": {
          "base_uri": "https://localhost:8080/",
          "height": 68
        }
      },
      "source": [
        "B = np.random.rand(3,3)\n",
        "B = B*B.T\n",
        "print(B)"
      ],
      "execution_count": 0,
      "outputs": [
        {
          "output_type": "stream",
          "text": [
            "[[0.95239475 0.01397339 0.23838464]\n",
            " [0.01397339 0.991237   0.06748269]\n",
            " [0.23838464 0.06748269 0.76512189]]\n"
          ],
          "name": "stdout"
        }
      ]
    },
    {
      "cell_type": "code",
      "metadata": {
        "id": "_aQHjR2uEvi7",
        "colab_type": "code",
        "outputId": "1fa778c5-c412-4e43-bdf9-74932bd2647d",
        "colab": {
          "base_uri": "https://localhost:8080/",
          "height": 68
        }
      },
      "source": [
        "L=np.linalg.cholesky(B)\n",
        "print(L)"
      ],
      "execution_count": 0,
      "outputs": [
        {
          "output_type": "stream",
          "text": [
            "[[0.97590714 0.         0.        ]\n",
            " [0.01431836 0.99550589 0.        ]\n",
            " [0.2442698  0.064274   0.8374503 ]]\n"
          ],
          "name": "stdout"
        }
      ]
    },
    {
      "cell_type": "code",
      "metadata": {
        "id": "29WBql6aFCMi",
        "colab_type": "code",
        "outputId": "3c69de11-f593-461a-af26-74ebcf00bc54",
        "colab": {
          "base_uri": "https://localhost:8080/",
          "height": 68
        }
      },
      "source": [
        "B2 = L@L.T\n",
        "print(B2)\n"
      ],
      "execution_count": 0,
      "outputs": [
        {
          "output_type": "stream",
          "text": [
            "[[0.95239475 0.01397339 0.23838464]\n",
            " [0.01397339 0.991237   0.06748269]\n",
            " [0.23838464 0.06748269 0.76512189]]\n"
          ],
          "name": "stdout"
        }
      ]
    },
    {
      "cell_type": "code",
      "metadata": {
        "id": "MwQ97yWzFjJj",
        "colab_type": "code",
        "outputId": "904fb9b8-55b0-49f9-eefc-4974aae22658",
        "colab": {
          "base_uri": "https://localhost:8080/",
          "height": 34
        }
      },
      "source": [
        "print(np.sum(B-B2))"
      ],
      "execution_count": 0,
      "outputs": [
        {
          "output_type": "stream",
          "text": [
            "5.551115123125783e-17\n"
          ],
          "name": "stdout"
        }
      ]
    },
    {
      "cell_type": "code",
      "metadata": {
        "id": "7QYXw1v6F-vL",
        "colab_type": "code",
        "colab": {}
      },
      "source": [
        "lam, V=np.linalg.eig(B)"
      ],
      "execution_count": 0,
      "outputs": []
    },
    {
      "cell_type": "code",
      "metadata": {
        "id": "1cQ_AmCEG2Q7",
        "colab_type": "code",
        "outputId": "24231c25-2f98-4baa-f02f-8cbdcb0baca5",
        "colab": {
          "base_uri": "https://localhost:8080/",
          "height": 34
        }
      },
      "source": [
        "print(lam)"
      ],
      "execution_count": 0,
      "outputs": [
        {
          "output_type": "stream",
          "text": [
            "[0.59675794 1.13276995 0.97922575]\n"
          ],
          "name": "stdout"
        }
      ]
    },
    {
      "cell_type": "code",
      "metadata": {
        "id": "f2JPH8rlHk0l",
        "colab_type": "code",
        "outputId": "de2c5831-8fa1-4d18-e3e4-a30f469927cd",
        "colab": {
          "base_uri": "https://localhost:8080/",
          "height": 68
        }
      },
      "source": [
        "print(V)"
      ],
      "execution_count": 0,
      "outputs": [
        {
          "output_type": "stream",
          "text": [
            "[[ 0.54932298 -0.75954449  0.3483338 ]\n",
            " [ 0.12195705 -0.33952255 -0.93265798]\n",
            " [-0.82666241 -0.55481222  0.09387573]]\n"
          ],
          "name": "stdout"
        }
      ]
    },
    {
      "cell_type": "code",
      "metadata": {
        "id": "8DjmXN6IHpD8",
        "colab_type": "code",
        "outputId": "302c773a-f020-4030-8921-6cbcbc4788be",
        "colab": {
          "base_uri": "https://localhost:8080/",
          "height": 68
        }
      },
      "source": [
        "B@V"
      ],
      "execution_count": 0,
      "outputs": [
        {
          "output_type": "execute_result",
          "data": {
            "text/plain": [
              "array([[ 0.32781285, -0.86038918,  0.34109742],\n",
              "       [ 0.07277884, -0.38460095, -0.91328271],\n",
              "       [-0.49331736, -0.62847461,  0.09192553]])"
            ]
          },
          "metadata": {
            "tags": []
          },
          "execution_count": 35
        }
      ]
    },
    {
      "cell_type": "code",
      "metadata": {
        "id": "5UGDYuOoIAN8",
        "colab_type": "code",
        "outputId": "e768e61f-7d4a-4502-9a57-b7a11f826b07",
        "colab": {
          "base_uri": "https://localhost:8080/",
          "height": 68
        }
      },
      "source": [
        "V*lam"
      ],
      "execution_count": 0,
      "outputs": [
        {
          "output_type": "execute_result",
          "data": {
            "text/plain": [
              "array([[ 0.32781285, -0.86038918,  0.34109742],\n",
              "       [ 0.07277884, -0.38460095, -0.91328271],\n",
              "       [-0.49331736, -0.62847461,  0.09192553]])"
            ]
          },
          "metadata": {
            "tags": []
          },
          "execution_count": 36
        }
      ]
    },
    {
      "cell_type": "code",
      "metadata": {
        "id": "-_39JoeZIKP8",
        "colab_type": "code",
        "outputId": "7ec4c10b-00c7-4517-bec4-26fc2d895d78",
        "colab": {
          "base_uri": "https://localhost:8080/",
          "height": 34
        }
      },
      "source": [
        "np.linalg.matrix_rank(B)"
      ],
      "execution_count": 0,
      "outputs": [
        {
          "output_type": "execute_result",
          "data": {
            "text/plain": [
              "3"
            ]
          },
          "metadata": {
            "tags": []
          },
          "execution_count": 37
        }
      ]
    },
    {
      "cell_type": "code",
      "metadata": {
        "id": "3XVgjYbXJYVt",
        "colab_type": "code",
        "colab": {}
      },
      "source": [
        ""
      ],
      "execution_count": 0,
      "outputs": []
    }
  ]
}