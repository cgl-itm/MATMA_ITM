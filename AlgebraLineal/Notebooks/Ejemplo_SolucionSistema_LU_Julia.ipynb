{
 "cells": [
  {
   "cell_type": "markdown",
   "metadata": {},
   "source": [
    "# Solución de sistema de ecuaciones usando la factorización LU"
   ]
  },
  {
   "cell_type": "code",
   "execution_count": 1,
   "metadata": {},
   "outputs": [],
   "source": [
    "using LinearAlgebra"
   ]
  },
  {
   "cell_type": "markdown",
   "metadata": {},
   "source": [
    "En este caso queremos encontrar la solucion al problema $\\mathbf{A}\\mathbf{x}=\\mathbf{b}$, con<br>\n",
    "$\\mathbf{A}=\\begin{bmatrix} 3 & -7 & -2\\\\ -3 & 5 & 1\\\\ 6 & -4 & 0 \\end{bmatrix}$, $\\mathbf{b}=\\begin{bmatrix} -7 \\\\ 5\\\\ 2\\end{bmatrix}$."
   ]
  },
  {
   "cell_type": "code",
   "execution_count": 2,
   "metadata": {},
   "outputs": [
    {
     "data": {
      "text/plain": [
       "3×1 Adjoint{Int64,Array{Int64,2}}:\n",
       " -7\n",
       "  5\n",
       "  2"
      ]
     },
     "execution_count": 2,
     "metadata": {},
     "output_type": "execute_result"
    }
   ],
   "source": [
    "A = [3 -7 -2;-3 5 1; 6 -4 0]\n",
    "b = [-7 5 2]'"
   ]
  },
  {
   "cell_type": "markdown",
   "metadata": {},
   "source": [
    "Podemos calcular la solución empleando la función lu."
   ]
  },
  {
   "cell_type": "code",
   "execution_count": 3,
   "metadata": {},
   "outputs": [
    {
     "data": {
      "text/plain": [
       "LU{Float64,Array{Float64,2}}\n",
       "L factor:\n",
       "3×3 Array{Float64,2}:\n",
       "  1.0   0.0  0.0\n",
       " -1.0   1.0  0.0\n",
       "  2.0  -5.0  1.0\n",
       "U factor:\n",
       "3×3 Array{Float64,2}:\n",
       " 3.0  -7.0  -2.0\n",
       " 0.0  -2.0  -1.0\n",
       " 0.0   0.0  -1.0"
      ]
     },
     "execution_count": 3,
     "metadata": {},
     "output_type": "execute_result"
    }
   ],
   "source": [
    "L,U = lu(A)"
   ]
  },
  {
   "cell_type": "markdown",
   "metadata": {},
   "source": [
    "El sistema de ecuaciones se resuelve, primero calculando $\\mathbf{L}\\mathbf{y}=\\mathbf{b}$ y luego $\\mathbf{R}\\mathbf{x}=\\mathbf{y}$. Empezamos calculando $\\mathbf{y}$ a partir de la solcuión de $\\mathbf{L}\\mathbf{y}=\\mathbf{b}$."
   ]
  },
  {
   "cell_type": "code",
   "execution_count": 4,
   "metadata": {},
   "outputs": [
    {
     "data": {
      "text/plain": [
       "3×1 Array{Float64,2}:\n",
       " -7.0\n",
       " -2.0\n",
       "  6.0"
      ]
     },
     "execution_count": 4,
     "metadata": {},
     "output_type": "execute_result"
    }
   ],
   "source": [
    "y= L\\b"
   ]
  },
  {
   "cell_type": "markdown",
   "metadata": {},
   "source": [
    "Calculamos la solucion de $\\mathbf{x}$, utiliazndo $\\mathbf{R}\\mathbf{x}=\\mathbf{y}$."
   ]
  },
  {
   "cell_type": "code",
   "execution_count": 5,
   "metadata": {},
   "outputs": [
    {
     "data": {
      "text/plain": [
       "3×1 Array{Float64,2}:\n",
       "  3.0\n",
       "  4.0\n",
       " -6.0"
      ]
     },
     "execution_count": 5,
     "metadata": {},
     "output_type": "execute_result"
    }
   ],
   "source": [
    "x = U\\y"
   ]
  },
  {
   "cell_type": "markdown",
   "metadata": {},
   "source": [
    "La comparamos con la solución que se encuentra usando $\\mathbf{A}\\mathbf{x}=\\mathbf{b}$."
   ]
  },
  {
   "cell_type": "code",
   "execution_count": 6,
   "metadata": {},
   "outputs": [
    {
     "data": {
      "text/plain": [
       "3×1 Array{Float64,2}:\n",
       "  3.0\n",
       "  4.0\n",
       " -6.0"
      ]
     },
     "execution_count": 6,
     "metadata": {},
     "output_type": "execute_result"
    }
   ],
   "source": [
    "x2 = A\\b"
   ]
  }
 ],
 "metadata": {
  "kernelspec": {
   "display_name": "Julia 1.0.3",
   "language": "julia",
   "name": "julia-1.0"
  },
  "language_info": {
   "file_extension": ".jl",
   "mimetype": "application/julia",
   "name": "julia",
   "version": "1.0.3"
  }
 },
 "nbformat": 4,
 "nbformat_minor": 2
}
