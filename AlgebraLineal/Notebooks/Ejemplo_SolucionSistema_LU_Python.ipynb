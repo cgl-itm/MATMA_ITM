{
  "nbformat": 4,
  "nbformat_minor": 0,
  "metadata": {
    "colab": {
      "name": "Ejemplo_SolucionSistema_LU_Python.ipynb",
      "version": "0.3.2",
      "provenance": [],
      "collapsed_sections": []
    },
    "kernelspec": {
      "name": "python3",
      "display_name": "Python 3"
    }
  },
  "cells": [
    {
      "cell_type": "markdown",
      "metadata": {
        "id": "B3qlYFYYePY5",
        "colab_type": "text"
      },
      "source": [
        "# Solucion de sistema de ecuaciones usando la factorización LU"
      ]
    },
    {
      "cell_type": "code",
      "metadata": {
        "id": "Dqf6Acy5DzHW",
        "colab_type": "code",
        "colab": {}
      },
      "source": [
        "import numpy as np\n",
        "from scipy.linalg import lu"
      ],
      "execution_count": 0,
      "outputs": []
    },
    {
      "cell_type": "markdown",
      "metadata": {
        "id": "_jJJ7tv3eWRg",
        "colab_type": "text"
      },
      "source": [
        "En este caso queremos encontrar la solucion al problema $\\mathbf{A}\\mathbf{x}=\\mathbf{b}$, con<br>\n",
        "$\\mathbf{A}=\\begin{bmatrix} 3 & -7 & -2\\\\ -3 & 5 & 1\\\\ 6 & -4 & 0 \\end{bmatrix}$, $\\mathbf{b}=\\begin{bmatrix} -7 \\\\ 5\\\\ 2\\end{bmatrix}$."
      ]
    },
    {
      "cell_type": "code",
      "metadata": {
        "id": "UgNz3WyQD2D-",
        "colab_type": "code",
        "colab": {}
      },
      "source": [
        "A = np.array([[3,-7,-2],[-3,5,1],[6,-4,0]])\n",
        "b = np.array([-7,5,2])"
      ],
      "execution_count": 0,
      "outputs": []
    },
    {
      "cell_type": "markdown",
      "metadata": {
        "id": "G8nwmeNdhxHc",
        "colab_type": "text"
      },
      "source": [
        "Podemos calcular la solucion empleando la funcion lu de la libreria scipy."
      ]
    },
    {
      "cell_type": "code",
      "metadata": {
        "id": "KwI78D7tHNgA",
        "colab_type": "code",
        "colab": {
          "base_uri": "https://localhost:8080/",
          "height": 181
        },
        "outputId": "af86d13d-2dd3-48a3-dd5c-bb308756c7f7"
      },
      "source": [
        "P,L,U = lu(A) #P es una matriz de permitacion ortogonal\n",
        "print(P,'\\n',L,'\\n',U)"
      ],
      "execution_count": 3,
      "outputs": [
        {
          "output_type": "stream",
          "text": [
            "[[0. 1. 0.]\n",
            " [0. 0. 1.]\n",
            " [1. 0. 0.]] \n",
            " [[ 1.   0.   0. ]\n",
            " [ 0.5  1.   0. ]\n",
            " [-0.5 -0.6  1. ]] \n",
            " [[ 6.  -4.   0. ]\n",
            " [ 0.  -5.  -2. ]\n",
            " [ 0.   0.  -0.2]]\n"
          ],
          "name": "stdout"
        }
      ]
    },
    {
      "cell_type": "markdown",
      "metadata": {
        "id": "WZg3KTM4h7IX",
        "colab_type": "text"
      },
      "source": [
        "El sistema de ecuaciones se resuelve, primero calculando $\\mathbf{L}\\mathbf{y}=\\mathbf{b}$ y luego $\\mathbf{R}\\mathbf{x}=\\mathbf{y}$. Empezamos calculando $\\mathbf{y}$ a partir de la solcuión de $\\mathbf{L}\\mathbf{y}=\\mathbf{b}$."
      ]
    },
    {
      "cell_type": "code",
      "metadata": {
        "id": "57Dz_Yj5P91_",
        "colab_type": "code",
        "colab": {
          "base_uri": "https://localhost:8080/",
          "height": 35
        },
        "outputId": "35c0ab56-35c2-4445-ad0a-c7c6f7c7aacf"
      },
      "source": [
        "y=np.linalg.solve(L,np.dot(P.T,b)) #Se realiza el producto P^T*b para cambiar el orden de b de acuerdo a P\n",
        "print(y)"
      ],
      "execution_count": 4,
      "outputs": [
        {
          "output_type": "stream",
          "text": [
            "[ 2.  -8.   1.2]\n"
          ],
          "name": "stdout"
        }
      ]
    },
    {
      "cell_type": "markdown",
      "metadata": {
        "id": "PnFn8x_HlAgL",
        "colab_type": "text"
      },
      "source": [
        "Calculamos la solucion de $\\mathbf{x}$, utiliazndo $\\mathbf{R}\\mathbf{x}=\\mathbf{y}$."
      ]
    },
    {
      "cell_type": "code",
      "metadata": {
        "id": "GfzeDNWrQQGi",
        "colab_type": "code",
        "colab": {
          "base_uri": "https://localhost:8080/",
          "height": 35
        },
        "outputId": "423e6fb3-64d6-4456-f42e-66d09b82de84"
      },
      "source": [
        "x=np.linalg.solve(U,y)\n",
        "print(x)"
      ],
      "execution_count": 5,
      "outputs": [
        {
          "output_type": "stream",
          "text": [
            "[ 3.  4. -6.]\n"
          ],
          "name": "stdout"
        }
      ]
    },
    {
      "cell_type": "markdown",
      "metadata": {
        "id": "K7bG5diulJvv",
        "colab_type": "text"
      },
      "source": [
        "La comparamos con la solución que se encuentra usando $\\mathbf{A}\\mathbf{x}=\\mathbf{b}$."
      ]
    },
    {
      "cell_type": "code",
      "metadata": {
        "id": "VIMkXTe1QUB2",
        "colab_type": "code",
        "colab": {
          "base_uri": "https://localhost:8080/",
          "height": 35
        },
        "outputId": "a9471ecb-e385-4007-dbc9-53ad787e1f84"
      },
      "source": [
        "x2 = np.linalg.solve(A,b)\n",
        "print(x2)"
      ],
      "execution_count": 6,
      "outputs": [
        {
          "output_type": "stream",
          "text": [
            "[ 3.  4. -6.]\n"
          ],
          "name": "stdout"
        }
      ]
    }
  ]
}