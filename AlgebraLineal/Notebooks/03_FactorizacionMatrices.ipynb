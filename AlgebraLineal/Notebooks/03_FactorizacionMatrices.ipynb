{
  "nbformat": 4,
  "nbformat_minor": 0,
  "metadata": {
    "colab": {
      "name": "03_FactorizacionMatrices.ipynb",
      "provenance": [],
      "collapsed_sections": []
    },
    "kernelspec": {
      "name": "python3",
      "display_name": "Python 3"
    }
  },
  "cells": [
    {
      "cell_type": "markdown",
      "metadata": {
        "id": "ImAmBmYvJFh9"
      },
      "source": [
        "# Factorizacion de matrices"
      ]
    },
    {
      "cell_type": "markdown",
      "metadata": {
        "id": "5T1I7lCZX5wt"
      },
      "source": [
        "Basado en los comandos descritos en [Numpy.linalg](https://numpy.org/doc/stable/reference/routines.linalg.html)"
      ]
    },
    {
      "cell_type": "markdown",
      "metadata": {
        "id": "oK9MqUwCJXI9"
      },
      "source": [
        "## 1. Descomposición LU\n",
        "\n"
      ]
    },
    {
      "cell_type": "markdown",
      "metadata": {
        "id": "qXWrlxvUJqPg"
      },
      "source": [
        "Para esta descomposicion usaremos la libreria Scipy."
      ]
    },
    {
      "cell_type": "code",
      "metadata": {
        "id": "qAHt3c80H3Ew"
      },
      "source": [
        "from scipy.linalg import lu\n",
        "import numpy as np"
      ],
      "execution_count": 27,
      "outputs": []
    },
    {
      "cell_type": "markdown",
      "metadata": {
        "id": "gC8IcaAPPEJA"
      },
      "source": [
        "El comando lu de Scipy nos retorna $\\mathbf{PA}=\\mathbf{LU}$, $\\mathbf{A}=\\mathbf{PLU}$"
      ]
    },
    {
      "cell_type": "code",
      "metadata": {
        "id": "Mc3Hd8o9Jxo-",
        "colab": {
          "base_uri": "https://localhost:8080/"
        },
        "outputId": "a76b6aa8-56ad-4b16-9299-f7d362d5eeaf"
      },
      "source": [
        "A = np.array([[2,4,-1,5,-2],[-4,-5,3,-8,1],[2,-5,-4,1,8],[-6,0,7,-3,1]])\n",
        "P, L, U = lu(A)\n",
        "print(P)\n",
        "print(L)\n",
        "print(U)\n",
        "print(P@(L@U))"
      ],
      "execution_count": 28,
      "outputs": [
        {
          "output_type": "stream",
          "name": "stdout",
          "text": [
            "[[0. 0. 0. 1.]\n",
            " [0. 1. 0. 0.]\n",
            " [0. 0. 1. 0.]\n",
            " [1. 0. 0. 0.]]\n",
            "[[ 1.          0.          0.          0.        ]\n",
            " [ 0.66666667  1.          0.          0.        ]\n",
            " [-0.33333333  1.          1.          0.        ]\n",
            " [-0.33333333 -0.8        -0.          1.        ]]\n",
            "[[-6.00000000e+00  0.00000000e+00  7.00000000e+00 -3.00000000e+00\n",
            "   1.00000000e+00]\n",
            " [ 0.00000000e+00 -5.00000000e+00 -1.66666667e+00 -6.00000000e+00\n",
            "   3.33333333e-01]\n",
            " [ 0.00000000e+00  0.00000000e+00 -8.88178420e-16  6.00000000e+00\n",
            "   8.00000000e+00]\n",
            " [ 0.00000000e+00  0.00000000e+00  0.00000000e+00 -8.00000000e-01\n",
            "  -1.40000000e+00]]\n",
            "[[ 2.  4. -1.  5. -2.]\n",
            " [-4. -5.  3. -8.  1.]\n",
            " [ 2. -5. -4.  1.  8.]\n",
            " [-6.  0.  7. -3.  1.]]\n"
          ]
        }
      ]
    },
    {
      "cell_type": "code",
      "metadata": {
        "id": "bgwusu6jPTdQ",
        "colab": {
          "base_uri": "https://localhost:8080/"
        },
        "outputId": "c4b6ea5f-df8c-4e92-d748-db00d225e540"
      },
      "source": [
        "print(P@A)\n",
        "print(L@U)"
      ],
      "execution_count": 29,
      "outputs": [
        {
          "output_type": "stream",
          "name": "stdout",
          "text": [
            "[[-6.  0.  7. -3.  1.]\n",
            " [-4. -5.  3. -8.  1.]\n",
            " [ 2. -5. -4.  1.  8.]\n",
            " [ 2.  4. -1.  5. -2.]]\n",
            "[[-6.  0.  7. -3.  1.]\n",
            " [-4. -5.  3. -8.  1.]\n",
            " [ 2. -5. -4.  1.  8.]\n",
            " [ 2.  4. -1.  5. -2.]]\n"
          ]
        }
      ]
    },
    {
      "cell_type": "markdown",
      "metadata": {
        "id": "e_ijaiGmMCPL"
      },
      "source": [
        "Solucion de sistemas de ecuacion con LU, $\\mathbf{A}\\mathbf{x}=\\mathbf{b}$, con <br>\n",
        "$$ \\mathbf{A} = \\begin{bmatrix} 3 & -7 & -2\\\\ -3 & 5 & 1\\\\ 6 & -4 & 0 \\end{bmatrix} \\quad \\mathbf{b} = \\begin{bmatrix} -7\\\\ 5\\\\ 2 \\end{bmatrix}$$"
      ]
    },
    {
      "cell_type": "code",
      "metadata": {
        "id": "VUFVcRa-MFyB"
      },
      "source": [
        "A = np.array([[3,-7,-2],[-3,5,1],[6,-4,0]])\n",
        "b = np.array([[-7],[5],[2]])"
      ],
      "execution_count": 80,
      "outputs": []
    },
    {
      "cell_type": "code",
      "metadata": {
        "id": "EWapJg2yAPg7",
        "outputId": "6a1503ca-cdd5-47a1-8ca2-d546cb3ea6f6",
        "colab": {
          "base_uri": "https://localhost:8080/"
        }
      },
      "source": [
        "x2 = np.linalg.solve(A,b)\n",
        "x2"
      ],
      "execution_count": 31,
      "outputs": [
        {
          "output_type": "execute_result",
          "data": {
            "text/plain": [
              "array([[ 3.],\n",
              "       [ 4.],\n",
              "       [-6.]])"
            ]
          },
          "metadata": {},
          "execution_count": 31
        }
      ]
    },
    {
      "cell_type": "markdown",
      "metadata": {
        "id": "a0_Zx8yFRHTI"
      },
      "source": [
        "Recordar que $\\mathbf{PA}=\\mathbf{LU}$, entonces $\\mathbf{LU}\\mathbf{x}=\\mathbf{Pb}$, $\\mathbf{PAx}=\\mathbf{Pb}$"
      ]
    },
    {
      "cell_type": "code",
      "metadata": {
        "id": "qkr8nkNCMO7f"
      },
      "source": [
        "P,L,U = lu(A)"
      ],
      "execution_count": 82,
      "outputs": []
    },
    {
      "cell_type": "code",
      "metadata": {
        "id": "6AEzq1ti_N1T",
        "outputId": "0e09dc8a-ee06-42cd-86f9-4b1530122838",
        "colab": {
          "base_uri": "https://localhost:8080/"
        }
      },
      "source": [
        "print(P,'\\n',L,'\\n',U)"
      ],
      "execution_count": 33,
      "outputs": [
        {
          "output_type": "stream",
          "name": "stdout",
          "text": [
            "[[0. 1. 0.]\n",
            " [0. 0. 1.]\n",
            " [1. 0. 0.]] \n",
            " [[ 1.   0.   0. ]\n",
            " [ 0.5  1.   0. ]\n",
            " [-0.5 -0.6  1. ]] \n",
            " [[ 6.  -4.   0. ]\n",
            " [ 0.  -5.  -2. ]\n",
            " [ 0.   0.  -0.2]]\n"
          ]
        }
      ]
    },
    {
      "cell_type": "markdown",
      "metadata": {
        "id": "mxdcLK8kQyMI"
      },
      "source": [
        "La solucion es $\\mathbf{x}=\\mathbf{U}^{-1}\\mathbf{L}^{-1}\\mathbf{P}\\mathbf{b}$"
      ]
    },
    {
      "cell_type": "code",
      "metadata": {
        "id": "zXTBVW22MaSA",
        "colab": {
          "base_uri": "https://localhost:8080/"
        },
        "outputId": "4d86d48d-6673-42f2-83aa-e229619d8437"
      },
      "source": [
        "z = np.linalg.solve(L,P.T@b)\n",
        "x = np.linalg.solve(U,z)\n",
        "print(x)"
      ],
      "execution_count": 85,
      "outputs": [
        {
          "output_type": "stream",
          "name": "stdout",
          "text": [
            "[[ 3.]\n",
            " [ 4.]\n",
            " [-6.]]\n"
          ]
        }
      ]
    },
    {
      "cell_type": "code",
      "metadata": {
        "id": "bPwwzNc4Mpqx",
        "colab": {
          "base_uri": "https://localhost:8080/"
        },
        "outputId": "0f8052ba-6f32-42f3-f4dc-0f390ffe8b11"
      },
      "source": [
        "print(P@(A@x))\n",
        "print(b)"
      ],
      "execution_count": 35,
      "outputs": [
        {
          "output_type": "stream",
          "name": "stdout",
          "text": [
            "[[-7.]\n",
            " [ 5.]\n",
            " [ 2.]]\n",
            "[[-7]\n",
            " [ 5]\n",
            " [ 2]]\n"
          ]
        }
      ]
    },
    {
      "cell_type": "markdown",
      "metadata": {
        "id": "hGUd5iHtUljQ"
      },
      "source": [
        "## 2. Descomposicion QR"
      ]
    },
    {
      "cell_type": "markdown",
      "metadata": {
        "id": "5FMpz5bfUvlm"
      },
      "source": [
        "Aqui hacemos uso de la funcion qr dentron de la sub-libreria linalg de Numpy."
      ]
    },
    {
      "cell_type": "code",
      "metadata": {
        "id": "IktlnKyWUu1F",
        "colab": {
          "base_uri": "https://localhost:8080/"
        },
        "outputId": "d0f874ad-84f8-4c24-8239-fdec26036553"
      },
      "source": [
        "A = np.array([[1,0,0],[1,1,0],[1,1,1],[1,1,1]])\n",
        "print(A)"
      ],
      "execution_count": 51,
      "outputs": [
        {
          "output_type": "stream",
          "name": "stdout",
          "text": [
            "[[1 0 0]\n",
            " [1 1 0]\n",
            " [1 1 1]\n",
            " [1 1 1]]\n"
          ]
        }
      ]
    },
    {
      "cell_type": "code",
      "metadata": {
        "id": "YxnSFUO-MvM_",
        "colab": {
          "base_uri": "https://localhost:8080/"
        },
        "outputId": "8d0ce906-f6db-458c-f8fd-d182b45dc1a0"
      },
      "source": [
        "Q,R = np.linalg.qr(A)\n",
        "print(Q,'\\n \\n',R)"
      ],
      "execution_count": 53,
      "outputs": [
        {
          "output_type": "stream",
          "name": "stdout",
          "text": [
            "[[-0.5         0.8660254   0.        ]\n",
            " [-0.5        -0.28867513  0.81649658]\n",
            " [-0.5        -0.28867513 -0.40824829]\n",
            " [-0.5        -0.28867513 -0.40824829]] \n",
            " \n",
            " [[-2.         -1.5        -1.        ]\n",
            " [ 0.         -0.8660254  -0.57735027]\n",
            " [ 0.          0.         -0.81649658]]\n"
          ]
        }
      ]
    },
    {
      "cell_type": "code",
      "metadata": {
        "id": "6t_YcgFUFIyB",
        "outputId": "f8490785-b645-4aa9-abea-4626663388db",
        "colab": {
          "base_uri": "https://localhost:8080/"
        }
      },
      "source": [
        "Q@R"
      ],
      "execution_count": 55,
      "outputs": [
        {
          "output_type": "execute_result",
          "data": {
            "text/plain": [
              "array([[ 1.00000000e+00,  8.69063787e-17, -1.34358683e-16],\n",
              "       [ 1.00000000e+00,  1.00000000e+00,  1.61842956e-16],\n",
              "       [ 1.00000000e+00,  1.00000000e+00,  1.00000000e+00],\n",
              "       [ 1.00000000e+00,  1.00000000e+00,  1.00000000e+00]])"
            ]
          },
          "metadata": {},
          "execution_count": 55
        }
      ]
    },
    {
      "cell_type": "code",
      "metadata": {
        "id": "45zb6b51WZQ6",
        "colab": {
          "base_uri": "https://localhost:8080/"
        },
        "outputId": "0c01acae-fa1b-4ccc-8561-ba08267fb232"
      },
      "source": [
        "Q.T@Q"
      ],
      "execution_count": 54,
      "outputs": [
        {
          "output_type": "execute_result",
          "data": {
            "text/plain": [
              "array([[1.00000000e+00, 0.00000000e+00, 0.00000000e+00],\n",
              "       [0.00000000e+00, 1.00000000e+00, 6.34802232e-18],\n",
              "       [0.00000000e+00, 6.34802232e-18, 1.00000000e+00]])"
            ]
          },
          "metadata": {},
          "execution_count": 54
        }
      ]
    },
    {
      "cell_type": "code",
      "metadata": {
        "id": "71Y6q7ekJhjc",
        "outputId": "25ace7cb-4be8-4579-c30a-ee448449b3c5",
        "colab": {
          "base_uri": "https://localhost:8080/"
        }
      },
      "source": [
        "A = np.array([[4,0],[0,2],[1,1]])\n",
        "print(A)"
      ],
      "execution_count": 56,
      "outputs": [
        {
          "output_type": "stream",
          "name": "stdout",
          "text": [
            "[[4 0]\n",
            " [0 2]\n",
            " [1 1]]\n"
          ]
        }
      ]
    },
    {
      "cell_type": "code",
      "metadata": {
        "id": "_gRQFaqdJm6K",
        "outputId": "5312b17f-c29e-48cd-9434-3c28c5e5cacf",
        "colab": {
          "base_uri": "https://localhost:8080/"
        }
      },
      "source": [
        "Q,R = np.linalg.qr(A)\n",
        "print(Q,'\\n \\n', R)"
      ],
      "execution_count": 58,
      "outputs": [
        {
          "output_type": "stream",
          "name": "stdout",
          "text": [
            "[[-0.9701425   0.10585122]\n",
            " [-0.         -0.89973541]\n",
            " [-0.24253563 -0.4234049 ]] \n",
            " \n",
            " [[-4.12310563 -0.24253563]\n",
            " [ 0.         -2.22287572]]\n"
          ]
        }
      ]
    },
    {
      "cell_type": "code",
      "metadata": {
        "id": "fR5D924qJycB"
      },
      "source": [
        "b = np.array([[2],[0],[11]])"
      ],
      "execution_count": 59,
      "outputs": []
    },
    {
      "cell_type": "code",
      "metadata": {
        "id": "TlNwO6jcJ4wZ",
        "outputId": "ce5904d9-749f-41a4-b9aa-0fc4c7a49f0a",
        "colab": {
          "base_uri": "https://localhost:8080/"
        }
      },
      "source": [
        "xc1 = np.linalg.solve(R,(Q.T@b))\n",
        "xc1"
      ],
      "execution_count": 60,
      "outputs": [
        {
          "output_type": "execute_result",
          "data": {
            "text/plain": [
              "array([[1.],\n",
              "       [2.]])"
            ]
          },
          "metadata": {},
          "execution_count": 60
        }
      ]
    },
    {
      "cell_type": "code",
      "metadata": {
        "id": "7VU4oTSAKE2O",
        "outputId": "0064a16d-72ce-427f-a74f-679a40232ffd",
        "colab": {
          "base_uri": "https://localhost:8080/"
        }
      },
      "source": [
        "xc2 = np.linalg.solve(A.T@A,(A.T@b))\n",
        "xc2"
      ],
      "execution_count": 62,
      "outputs": [
        {
          "output_type": "execute_result",
          "data": {
            "text/plain": [
              "array([[1.],\n",
              "       [2.]])"
            ]
          },
          "metadata": {},
          "execution_count": 62
        }
      ]
    },
    {
      "cell_type": "code",
      "metadata": {
        "id": "Ifuhw9kpKLBi",
        "outputId": "05fe0c87-2a89-464f-b19a-535ab170001c",
        "colab": {
          "base_uri": "https://localhost:8080/"
        }
      },
      "source": [
        "xc3 = np.linalg.pinv(A)@b\n",
        "xc3"
      ],
      "execution_count": 63,
      "outputs": [
        {
          "output_type": "execute_result",
          "data": {
            "text/plain": [
              "array([[1.],\n",
              "       [2.]])"
            ]
          },
          "metadata": {},
          "execution_count": 63
        }
      ]
    },
    {
      "cell_type": "code",
      "metadata": {
        "id": "palqr54yKVEY",
        "outputId": "fe83ac4c-1402-4cec-b9af-151dfb23a6da",
        "colab": {
          "base_uri": "https://localhost:8080/"
        }
      },
      "source": [
        "np.linalg.norm(b-A@(xc1))"
      ],
      "execution_count": 69,
      "outputs": [
        {
          "output_type": "execute_result",
          "data": {
            "text/plain": [
              "9.16515138991168"
            ]
          },
          "metadata": {},
          "execution_count": 69
        }
      ]
    },
    {
      "cell_type": "markdown",
      "metadata": {
        "id": "RN8wivAxXcZl"
      },
      "source": [
        "## 3. Descomposición en valores singulares"
      ]
    },
    {
      "cell_type": "markdown",
      "metadata": {
        "id": "nRkAjeVJXvW2"
      },
      "source": [
        "Para este caso usamos el comando svd en la sub-libreria linalg de Numpy."
      ]
    },
    {
      "cell_type": "code",
      "metadata": {
        "id": "KGWnJFifXnz5",
        "colab": {
          "base_uri": "https://localhost:8080/"
        },
        "outputId": "1a936f74-5d3c-42ce-df20-5df9bd7c54ee"
      },
      "source": [
        "A = np.array([[3,-7,-2],[-3,5,1],[6,-4,0]])\n",
        "b = np.array([[-7],[5],[2]])\n",
        "U,S,V = np.linalg.svd(A)\n",
        "print(U)\n",
        "print(S)\n",
        "print(V)"
      ],
      "execution_count": 74,
      "outputs": [
        {
          "output_type": "stream",
          "name": "stdout",
          "text": [
            "[[-0.65027495  0.57696259 -0.49422329]\n",
            " [ 0.50165302 -0.1624368  -0.84968143]\n",
            " [-0.57051445 -0.80045515 -0.18380645]]\n",
            "[11.74071486  3.33648831  0.15316767]\n",
            "[[-0.58589879  0.79571369  0.15350027]\n",
            " [-0.77462664 -0.49426265 -0.39453517]\n",
            " [-0.23806759 -0.35006308  0.90596891]]\n"
          ]
        }
      ]
    },
    {
      "cell_type": "code",
      "metadata": {
        "id": "86nssxJCTNrj",
        "outputId": "ee7a7812-ed16-4c00-8e8b-77303ec4545b",
        "colab": {
          "base_uri": "https://localhost:8080/"
        }
      },
      "source": [
        "V.T@V"
      ],
      "execution_count": 77,
      "outputs": [
        {
          "output_type": "execute_result",
          "data": {
            "text/plain": [
              "array([[ 1.00000000e+00, -6.80091366e-17,  2.98605952e-17],\n",
              "       [-6.80091366e-17,  1.00000000e+00,  1.57357181e-16],\n",
              "       [ 2.98605952e-17,  1.57357181e-16,  1.00000000e+00]])"
            ]
          },
          "metadata": {},
          "execution_count": 77
        }
      ]
    },
    {
      "cell_type": "code",
      "metadata": {
        "id": "PRRUAM2CS2ET",
        "outputId": "3be5c3d6-81c1-4c93-c7e4-b008dc21a48b",
        "colab": {
          "base_uri": "https://localhost:8080/"
        }
      },
      "source": [
        "np.sqrt(S)"
      ],
      "execution_count": 71,
      "outputs": [
        {
          "output_type": "execute_result",
          "data": {
            "text/plain": [
              "array([3.42647266, 1.82660568, 0.39136641])"
            ]
          },
          "metadata": {},
          "execution_count": 71
        }
      ]
    },
    {
      "cell_type": "code",
      "metadata": {
        "id": "bB2RY_9DS41S",
        "outputId": "c531de11-478a-41bc-fd6b-f6ea5b6cc4af",
        "colab": {
          "base_uri": "https://localhost:8080/"
        }
      },
      "source": [
        "np.linalg.eigvals(A)"
      ],
      "execution_count": 75,
      "outputs": [
        {
          "output_type": "execute_result",
          "data": {
            "text/plain": [
              "array([6.62778979+0.j        , 0.68610511+0.65919568j,\n",
              "       0.68610511-0.65919568j])"
            ]
          },
          "metadata": {},
          "execution_count": 75
        }
      ]
    },
    {
      "cell_type": "code",
      "metadata": {
        "id": "YC2kP1VmgzU-",
        "colab": {
          "base_uri": "https://localhost:8080/"
        },
        "outputId": "cef5478e-3c76-42ac-9637-c0912caf41df"
      },
      "source": [
        "S.shape"
      ],
      "execution_count": 40,
      "outputs": [
        {
          "output_type": "execute_result",
          "data": {
            "text/plain": [
              "(3,)"
            ]
          },
          "metadata": {},
          "execution_count": 40
        }
      ]
    },
    {
      "cell_type": "code",
      "metadata": {
        "id": "gLVjoxMwYIOJ",
        "colab": {
          "base_uri": "https://localhost:8080/"
        },
        "outputId": "3a8eb409-518f-4821-812a-3ee2a73c9105"
      },
      "source": [
        "print(U.T@U)\n",
        "print(V.T@V)\n",
        "print(np.prod(S))\n",
        "print(np.linalg.det(A))"
      ],
      "execution_count": 78,
      "outputs": [
        {
          "output_type": "stream",
          "name": "stdout",
          "text": [
            "[[ 1.00000000e+00  1.51480715e-16 -3.66980942e-17]\n",
            " [ 1.51480715e-16  1.00000000e+00 -2.18043275e-16]\n",
            " [-3.66980942e-17 -2.18043275e-16  1.00000000e+00]]\n",
            "[[ 1.00000000e+00 -6.80091366e-17  2.98605952e-17]\n",
            " [-6.80091366e-17  1.00000000e+00  1.57357181e-16]\n",
            " [ 2.98605952e-17  1.57357181e-16  1.00000000e+00]]\n",
            "5.9999999999999964\n",
            "6.0000000000000036\n"
          ]
        }
      ]
    },
    {
      "cell_type": "code",
      "metadata": {
        "id": "yMWeUZvATXhS"
      },
      "source": [
        ""
      ],
      "execution_count": null,
      "outputs": []
    },
    {
      "cell_type": "code",
      "metadata": {
        "id": "8ORHpEUbYODv",
        "colab": {
          "base_uri": "https://localhost:8080/"
        },
        "outputId": "28927aa2-860a-4de6-a91f-6b6880542bf0"
      },
      "source": [
        "np.diag(S)"
      ],
      "execution_count": 42,
      "outputs": [
        {
          "output_type": "execute_result",
          "data": {
            "text/plain": [
              "array([[9.88531219, 0.        , 0.        ],\n",
              "       [0.        , 7.0434192 , 0.        ],\n",
              "       [0.        , 0.        , 1.29261319]])"
            ]
          },
          "metadata": {},
          "execution_count": 42
        }
      ]
    },
    {
      "cell_type": "code",
      "metadata": {
        "id": "LhKDXD0KaZJs",
        "colab": {
          "base_uri": "https://localhost:8080/"
        },
        "outputId": "3cf0e64d-0e34-4f9b-96e3-d30ca701cea5"
      },
      "source": [
        "print(U@np.diag(S)@V)\n",
        "print(A)"
      ],
      "execution_count": 43,
      "outputs": [
        {
          "output_type": "stream",
          "name": "stdout",
          "text": [
            "[[ 3.00000000e+00  7.00000000e+00 -2.00000000e+00]\n",
            " [-3.00000000e+00  5.00000000e+00  1.00000000e+00]\n",
            " [ 6.00000000e+00 -4.00000000e+00  1.61671397e-16]]\n",
            "[[ 3  7 -2]\n",
            " [-3  5  1]\n",
            " [ 6 -4  0]]\n"
          ]
        }
      ]
    },
    {
      "cell_type": "markdown",
      "metadata": {
        "id": "JnWCzrXUZa0O"
      },
      "source": [
        "Si $\\mathbf{A}\\mathbf{x}=\\mathbf{b}$ entonces $\\mathbf{USV}^{\\top}\\mathbf{x}=\\mathbf{b}$, entonces $\\mathbf{x}=\\mathbf{VS}^{-1}\\mathbf{U}^{\\top}\\mathbf{b}$"
      ]
    },
    {
      "cell_type": "code",
      "metadata": {
        "id": "x70Jf8k4ZFsR",
        "colab": {
          "base_uri": "https://localhost:8080/"
        },
        "outputId": "0292f47e-2ad4-4848-812f-f76193dae8d0"
      },
      "source": [
        "x = V.T@np.diag(1/S)@U.T@b\n",
        "print(x)"
      ],
      "execution_count": 44,
      "outputs": [
        {
          "output_type": "stream",
          "name": "stdout",
          "text": [
            "[[0.51111111]\n",
            " [0.26666667]\n",
            " [5.2       ]]\n"
          ]
        }
      ]
    },
    {
      "cell_type": "code",
      "metadata": {
        "id": "_0AltmwRaHYE",
        "colab": {
          "base_uri": "https://localhost:8080/"
        },
        "outputId": "89642b3d-0778-42a8-9d15-7751414f4cbf"
      },
      "source": [
        "print(A@x)\n",
        "print(b)"
      ],
      "execution_count": 45,
      "outputs": [
        {
          "output_type": "stream",
          "name": "stdout",
          "text": [
            "[[-7.]\n",
            " [ 5.]\n",
            " [ 2.]]\n",
            "[[-7]\n",
            " [ 5]\n",
            " [ 2]]\n"
          ]
        }
      ]
    },
    {
      "cell_type": "markdown",
      "metadata": {
        "id": "C3SqKSbxZOiO"
      },
      "source": [
        "## 4. Pseudo inversas"
      ]
    },
    {
      "cell_type": "markdown",
      "metadata": {
        "id": "HnsSHmg5aoBk"
      },
      "source": [
        "Para matrices rectangulares $\\mathbf{A}$, la pseudo inversa es $\\mathbf{A}^{\\dagger}=(\\mathbf{A^{\\top}}\\mathbf{A})^{-1}\\mathbf{A}^{\\top}$."
      ]
    },
    {
      "cell_type": "code",
      "metadata": {
        "id": "yS8H0jYAbU5P",
        "colab": {
          "base_uri": "https://localhost:8080/"
        },
        "outputId": "b7153e73-9ba6-4690-8708-884ad76962de"
      },
      "source": [
        "A1 = np.array([[2,4,-1,5,-2],[-4,-5,3,-8,1],[2,-5,-4,1,8],[-6,0,7,-3,1]])\n",
        "A2 = np.array([[1,0,0],[1,1,0],[1,1,1],[1,1,1]])\n",
        "print(A1.shape,A2.shape)"
      ],
      "execution_count": 46,
      "outputs": [
        {
          "output_type": "stream",
          "name": "stdout",
          "text": [
            "(4, 5) (4, 3)\n"
          ]
        }
      ]
    },
    {
      "cell_type": "code",
      "metadata": {
        "id": "q6Gy7Hb6ZQGQ"
      },
      "source": [
        "A1pinv = np.linalg.pinv(A1)\n",
        "A2pinv = np.linalg.pinv(A2)"
      ],
      "execution_count": 47,
      "outputs": []
    },
    {
      "cell_type": "code",
      "metadata": {
        "id": "oRnQQY6XchZs",
        "colab": {
          "base_uri": "https://localhost:8080/"
        },
        "outputId": "223461a7-3d43-44de-b074-39147788bd5b"
      },
      "source": [
        "print(A1@A1pinv)"
      ],
      "execution_count": 48,
      "outputs": [
        {
          "output_type": "stream",
          "name": "stdout",
          "text": [
            "[[ 1.00000000e+00  0.00000000e+00  2.22044605e-16  0.00000000e+00]\n",
            " [ 4.88498131e-15  1.00000000e+00  1.66533454e-16 -1.66533454e-16]\n",
            " [ 1.06581410e-14  7.10542736e-15  1.00000000e+00 -2.22044605e-16]\n",
            " [-7.54951657e-15 -5.77315973e-15 -1.49880108e-15  1.00000000e+00]]\n"
          ]
        }
      ]
    },
    {
      "cell_type": "code",
      "metadata": {
        "id": "XhK7fJqBdgU5",
        "colab": {
          "base_uri": "https://localhost:8080/"
        },
        "outputId": "81134a15-cc4b-490a-c077-c549c4943939"
      },
      "source": [
        "print(A2pinv@A2)"
      ],
      "execution_count": 49,
      "outputs": [
        {
          "output_type": "stream",
          "name": "stdout",
          "text": [
            "[[ 1.00000000e+00 -9.36770127e-16 -3.72473284e-16]\n",
            " [ 9.30344823e-17  1.00000000e+00  5.37123692e-16]\n",
            " [ 3.33066907e-16 -2.77555756e-16  1.00000000e+00]]\n"
          ]
        }
      ]
    },
    {
      "cell_type": "code",
      "metadata": {
        "id": "8wKNJ_2jdnqO"
      },
      "source": [
        ""
      ],
      "execution_count": 49,
      "outputs": []
    }
  ]
}